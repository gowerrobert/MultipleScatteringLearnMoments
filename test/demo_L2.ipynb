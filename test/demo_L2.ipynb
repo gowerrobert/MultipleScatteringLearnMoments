{
 "cells": [
  {
   "cell_type": "markdown",
   "metadata": {},
   "source": [
    "A demo of training, predicting and testing a linear classifier using the centered moments of simulated response data. Here we use kernel ridge regression to learn the radius and volume fraction.\n"
   ]
  },
  {
   "cell_type": "code",
   "execution_count": 1,
   "metadata": {},
   "outputs": [],
   "source": [
    "# Dependencies\n",
    "using StatsBase\n",
    "using JLD\n",
    "using GLMNet\n",
    "using Plots \n",
    "using LaTeXStrings"
   ]
  },
  {
   "cell_type": "code",
   "execution_count": 2,
   "metadata": {},
   "outputs": [],
   "source": [
    "# include Machine learning definitions and functions\n",
    "using MultipleScattering\n",
    "using MultipleScatteringLearnMoments\n",
    "#include(\"../src/MultiplyScattering_learn_moments.jl\");"
   ]
  },
  {
   "cell_type": "code",
   "execution_count": 3,
   "metadata": {},
   "outputs": [
    {
     "name": "stdout",
     "output_type": "stream",
     "text": [
      "loading:/home/rgower/.julia/v0.5/MultipleScatteringLearnMoments/test/../data/bunnytime.mnts.jld\n",
      "loading:/home/rgower/.julia/v0.5/MultipleScatteringLearnMoments/test/../data/bunnytimetest.mnts.jld\n"
     ]
    }
   ],
   "source": [
    "# Load training data\n",
    "dataname = \"bunnytime\"; # bunnytimetest-low\n",
    "datatestname = \"bunnytimetest\"; # bunnytimetest-extra #bunnytimetest-extra8\n",
    "\n",
    "train = load_moments(string(dataname,\".mnts\")); #bunnytime8  # bunnytime-low.\n",
    "# Load testing data\n",
    "test = load_moments(string(datatestname,\".mnts\")); #bunnytimetest8   # bunnytime-extra   # bunnytimetest-low"
   ]
  },
  {
   "cell_type": "code",
   "execution_count": 7,
   "metadata": {},
   "outputs": [
    {
     "name": "stdout",
     "output_type": "stream",
     "text": [
      "found ../data/momentsmapOrnUhlen-radius-bunnytime-crossvalid.jld with lambdabest 5.960464477539063e-8 and kernelparam 16.0\n",
      "(#data, #features): (205, 59)\n",
      "Fitting momentsmapOrnUhlen-radius\n",
      "0.0% absolute train error\n",
      "radius 11.9% absolute test error\n",
      "R squared error radius= 0.93\n"
     ]
    }
   ],
   "source": [
    "## Learning the Radius with kernal ridgeregression#\n",
    "momnums = [1,2];\n",
    "optionsr = OptionsML(momnums,[],true) \n",
    "#choose a feature map: fmmean, fmmoments, fmofm_full\n",
    "fmr = fmmoments; \n",
    "#choose a kernel: \"OrnUhlen\", \"gauss\", \"rationquad\", \"\" <-- no kernal. See kernels.jl to add more kernels\n",
    "kernelname = \"OrnUhlen\";\n",
    "#retrieving the regularization parameter lambda and the kernel parameters that were calculated using  cross validation. See cross_valid.ipynb\n",
    "lambda, kernelparam = get_crossvalid_parameters(fmr,kernelname,\"radius\",optionsr,dataname);\n",
    "#setup up the machine learning model.\n",
    "mlr = setup_ml(train, fmr,  kernelname,optionsr, \"radius\");\n",
    "# fitting the radius model\n",
    "fit_L2(mlr, optionsr,  kernelname, kernelparam, lambda);\n",
    "# testing the fitted model on the test data. See plots generated in ./figures\n",
    "Rsqdr = test_linear(test,datatestname,fmr,  mlr,optionsr, \"radius\");"
   ]
  },
  {
   "cell_type": "code",
   "execution_count": 8,
   "metadata": {},
   "outputs": [
    {
     "name": "stdout",
     "output_type": "stream",
     "text": [
      "found ../data/momentsmapOrnUhlen-concen-bunnytime-crossvalid.jld with lambdabest 0.25 and kernelparam 2.0\n",
      "(#data, #features): (205, 59)\n",
      "Fitting momentsmapOrnUhlen-concen\n",
      "2.9% absolute train error\n",
      "concen 16.6% absolute test error\n",
      "R squared error concen= 0.96\n"
     ]
    }
   ],
   "source": [
    "## Learning Volfrac kernal ridgeregression\n",
    "#Choose a kernel from: \"OrnUhlen\", \"gauss\", \"rationquad\", \"\" <-- not kernal. See kernels.jl to add more kernels\n",
    "optionsv = OptionsML(momnums,[],true) \n",
    "fmv = fmmoments;  # fmmean, fmmoments, fmofm, fmofm_full\n",
    "kernelname = \"OrnUhlen\";  #\"OrnUhlen\", \"gauss\",\n",
    "#retrieving the regularization parameter lambda and the kernel parameters that were calculated using  cross validation. See cross_valid.ipynb\n",
    "lambda, kernelparam = get_crossvalid_parameters(fmv,kernelname,\"concen\",optionsv,dataname);\n",
    "# retrieving lambdas that were calculated using  cross validation. See cross_valid.ipynb\n",
    "mlv = setup_ml(train, fmv,  kernelname,optionsv, \"concen\");\n",
    "# fitting the volume model\n",
    "fit_L2(mlv, optionsv,  kernelname, kernelparam, lambda);\n",
    "# testing the fitted model on the test data. See plots generated in ./figures\n",
    "Rsqdv = test_linear(test,datatestname,fmv,  mlv,optionsv, \"concen\");"
   ]
  },
  {
   "cell_type": "code",
   "execution_count": 13,
   "metadata": {},
   "outputs": [
    {
     "name": "stdout",
     "output_type": "stream",
     "text": [
      "True:      (concentration, radius) = (0.121, 1.93)\n",
      "Predicted: (concentration, radius) = (0.145, 1.092)\n"
     ]
    }
   ],
   "source": [
    "## Predict a single particle using the kernal ridgeregression radius and volume models\n",
    "gridnum = 80;\n",
    "vl = test[gridnum].label[1] # volume fraction\n",
    "rd = test[gridnum].label[2] # radius\n",
    "println(\"True:      (concentration, radius) = (\",round(vl/rd^2,3),\", \",round(rd,3), ')');\n",
    "# Make a single prediction on test set\n",
    " vpred = predict_linear(test[gridnum], fmv,  mlv, optionsv)\n",
    " rpred = predict_linear(test[gridnum], fmr,  mlr, optionsr)\n",
    " println(\"Predicted: (concentration, radius) = (\",round(vpred[1],3),\", \",round(rpred[1],3), ')');"
   ]
  },
  {
   "cell_type": "code",
   "execution_count": null,
   "metadata": {},
   "outputs": [],
   "source": []
  }
 ],
 "metadata": {
  "anaconda-cloud": {},
  "kernelspec": {
   "display_name": "Julia 0.5.2",
   "language": "julia",
   "name": "julia-0.5"
  },
  "language_info": {
   "file_extension": ".jl",
   "mimetype": "application/julia",
   "name": "julia",
   "version": "0.5.2"
  }
 },
 "nbformat": 4,
 "nbformat_minor": 1
}
