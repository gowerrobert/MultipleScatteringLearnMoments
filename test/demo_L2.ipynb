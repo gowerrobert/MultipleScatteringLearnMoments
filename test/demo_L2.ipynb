{
 "cells": [
  {
   "cell_type": "markdown",
   "metadata": {},
   "source": [
    "A demo of training, predicting and testing a linear classifier using the centered moments of simulated response data. Here we use kernel ridge regression to learn the radius and volume fraction.\n"
   ]
  },
  {
   "cell_type": "code",
   "execution_count": 18,
   "metadata": {},
   "outputs": [],
   "source": [
    "# Dependencies\n",
    "using StatsBase\n",
    "using LaTeXStrings\n",
    "using JLD\n",
    "using GLMNet\n",
    "using Plots "
   ]
  },
  {
   "cell_type": "code",
   "execution_count": 19,
   "metadata": {},
   "outputs": [
    {
     "name": "stderr",
     "output_type": "stream",
     "text": [
      "WARNING: Method definition (::Type{Main.ML_model})(Float64, Array{Float64, N<:Any}, Float64, Float64, Array{Float64, N<:Any}, Array{Float64, N<:Any}, Array{Float64, N<:Any}, AbstractString, Int64, Int64, Array{Float64, N<:Any}, AbstractString, Float64, Function) in module Main at /home/rgower/Dropbox/Scattering-1.5D/numerics/mom_linear_regression/src/MultiplyScattering_learn_moments.jl:15 overwritten at /home/rgower/Dropbox/Scattering-1.5D/numerics/mom_linear_regression/src/MultiplyScattering_learn_moments.jl:15.\n",
      "WARNING: Method definition (::Type{Main.ML_model})(Any, Any, Any, Any, Any, Any, Any, Any, Any, Any, Any, Any, Any, Any) in module Main at /home/rgower/Dropbox/Scattering-1.5D/numerics/mom_linear_regression/src/MultiplyScattering_learn_moments.jl:15 overwritten at /home/rgower/Dropbox/Scattering-1.5D/numerics/mom_linear_regression/src/MultiplyScattering_learn_moments.jl:15.\n",
      "WARNING: Method definition (::Type{Main.OptionsML})(Array{Int64, N<:Any}, Array{Float64, N<:Any}, Bool) in module Main at /home/rgower/Dropbox/Scattering-1.5D/numerics/mom_linear_regression/src/MultiplyScattering_learn_moments.jl:32 overwritten at /home/rgower/Dropbox/Scattering-1.5D/numerics/mom_linear_regression/src/MultiplyScattering_learn_moments.jl:32.\n",
      "WARNING: Method definition (::Type{Main.OptionsML})(Any, Any, Any) in module Main at /home/rgower/Dropbox/Scattering-1.5D/numerics/mom_linear_regression/src/MultiplyScattering_learn_moments.jl:32 overwritten at /home/rgower/Dropbox/Scattering-1.5D/numerics/mom_linear_regression/src/MultiplyScattering_learn_moments.jl:32.\n",
      "WARNING: Method definition (::Type{Main.FeatureMap})(Function, Function, AbstractString) in module Main at /home/rgower/Dropbox/Scattering-1.5D/numerics/mom_linear_regression/src/MultiplyScattering_learn_moments.jl:39 overwritten at /home/rgower/Dropbox/Scattering-1.5D/numerics/mom_linear_regression/src/MultiplyScattering_learn_moments.jl:39.\n",
      "WARNING: Method definition (::Type{Main.FeatureMap})(Any, Any, Any) in module Main at /home/rgower/Dropbox/Scattering-1.5D/numerics/mom_linear_regression/src/MultiplyScattering_learn_moments.jl:39 overwritten at /home/rgower/Dropbox/Scattering-1.5D/numerics/mom_linear_regression/src/MultiplyScattering_learn_moments.jl:39.\n",
      "WARNING: Method definition cross_valid_inner(Array{MultipleScattering.StatisticalMoments{Float64}, N<:Any}, Main.FeatureMap, Main.OptionsML, AbstractString, Array{Float64, N<:Any}, Int64, Array{Float64, N<:Any}, AbstractString, Bool, AbstractString) in module Main at /home/rgower/Dropbox/Scattering-1.5D/numerics/mom_linear_regression/src/cross_valid_inner.jl:4 overwritten at /home/rgower/Dropbox/Scattering-1.5D/numerics/mom_linear_regression/src/cross_valid_inner.jl:4.\n",
      "WARNING: Method definition setup_ml(Array{MultipleScattering.StatisticalMoments{Float64}, N<:Any}, Main.FeatureMap, AbstractString, Any, AbstractString) in module Main at /home/rgower/Dropbox/Scattering-1.5D/numerics/mom_linear_regression/src/setup_ml.jl:8 overwritten at /home/rgower/Dropbox/Scattering-1.5D/numerics/mom_linear_regression/src/setup_ml.jl:8.\n",
      "WARNING: Method definition fit_L2(Main.ML_model, Any, Any, Any, Any) in module Main at /home/rgower/Dropbox/Scattering-1.5D/numerics/mom_linear_regression/src/fit_L2.jl:8 overwritten at /home/rgower/Dropbox/Scattering-1.5D/numerics/mom_linear_regression/src/fit_L2.jl:8.\n",
      "WARNING: Method definition fit_L1(Main.ML_model, Any, Any) in module Main at /home/rgower/Dropbox/Scattering-1.5D/numerics/mom_linear_regression/src/fit_L1.jl:9 overwritten at /home/rgower/Dropbox/Scattering-1.5D/numerics/mom_linear_regression/src/fit_L1.jl:9.\n",
      "WARNING: Method definition predict_linear(MultipleScattering.StatisticalMoments, Main.FeatureMap, Main.ML_model, Any) in module Main at /home/rgower/Dropbox/Scattering-1.5D/numerics/mom_linear_regression/src/predict_linear.jl:3 overwritten at /home/rgower/Dropbox/Scattering-1.5D/numerics/mom_linear_regression/src/predict_linear.jl:3.\n",
      "WARNING: Method definition test_linear(Array{MultipleScattering.StatisticalMoments{Float64}, N<:Any}, AbstractString, Main.FeatureMap, Main.ML_model, Any, AbstractString) in module Main at /home/rgower/Dropbox/Scattering-1.5D/numerics/mom_linear_regression/src/test_linear.jl:5 overwritten at /home/rgower/Dropbox/Scattering-1.5D/numerics/mom_linear_regression/src/test_linear.jl:5.\n",
      "WARNING: Method definition #test_linear(Array{Any, 1}, Main.#test_linear, Array{MultipleScattering.StatisticalMoments{Float64}, N<:Any}, AbstractString, Main.FeatureMap, Main.ML_model, Any, AbstractString) in module Main overwritten.\n",
      "WARNING: Method definition testerror_heatmap(Array{MultipleScattering.StatisticalMoments{Float64}, N<:Any}, Main.FeatureMap, Main.ML_model, Any, AbstractString) in module Main at /home/rgower/Dropbox/Scattering-1.5D/numerics/mom_linear_regression/src/testerror_heatmap.jl:6 overwritten at /home/rgower/Dropbox/Scattering-1.5D/numerics/mom_linear_regression/src/testerror_heatmap.jl:6.\n",
      "WARNING: Method definition #testerror_heatmap(Array{Any, 1}, Main.#testerror_heatmap, Array{MultipleScattering.StatisticalMoments{Float64}, N<:Any}, Main.FeatureMap, Main.ML_model, Any, AbstractString) in module Main overwritten.\n",
      "WARNING: Method definition Ferr_internal(MultipleScattering.StatisticalMoments, Main.ML_model, Main.FeatureMap, Array{Float64, N<:Any}, Any, AbstractString) in module Main at /home/rgower/Dropbox/Scattering-1.5D/numerics/mom_linear_regression/src/testerror_heatmap.jl:18 overwritten at /home/rgower/Dropbox/Scattering-1.5D/numerics/mom_linear_regression/src/testerror_heatmap.jl:18.\n",
      "WARNING: Method definition plotmom_heatmap(Array{MultipleScattering.StatisticalMoments{Float64}, N<:Any}) in module Main at /home/rgower/Dropbox/Scattering-1.5D/numerics/mom_linear_regression/src/testerror_heatmap.jl:32 overwritten at /home/rgower/Dropbox/Scattering-1.5D/numerics/mom_linear_regression/src/testerror_heatmap.jl:32.\n",
      "WARNING: Method definition plotmom_heatmap(Array{MultipleScattering.StatisticalMoments{Float64}, N<:Any}, Any) in module Main at /home/rgower/Dropbox/Scattering-1.5D/numerics/mom_linear_regression/src/testerror_heatmap.jl:32 overwritten at /home/rgower/Dropbox/Scattering-1.5D/numerics/mom_linear_regression/src/testerror_heatmap.jl:32.\n",
      "WARNING: Method definition apply_mean(Array{Float64, N<:Any}, Int64, MultipleScattering.StatisticalMoments, Any) in module Main at /home/rgower/Dropbox/Scattering-1.5D/numerics/mom_linear_regression/src/mean_feature_map.jl:4 overwritten at /home/rgower/Dropbox/Scattering-1.5D/numerics/mom_linear_regression/src/mean_feature_map.jl:4.\n",
      "WARNING: Method definition get_num_mean_features(MultipleScattering.StatisticalMoments, Any) in module Main at /home/rgower/Dropbox/Scattering-1.5D/numerics/mom_linear_regression/src/mean_feature_map.jl:11 overwritten at /home/rgower/Dropbox/Scattering-1.5D/numerics/mom_linear_regression/src/mean_feature_map.jl:11.\n",
      "WARNING: Method definition apply_moments(Array{Float64, N<:Any}, Int64, MultipleScattering.StatisticalMoments, Any) in module Main at /home/rgower/Dropbox/Scattering-1.5D/numerics/mom_linear_regression/src/moments_feature_map.jl:5 overwritten at /home/rgower/Dropbox/Scattering-1.5D/numerics/mom_linear_regression/src/moments_feature_map.jl:5.\n",
      "WARNING: Method definition get_num_moments_features(MultipleScattering.StatisticalMoments, Any) in module Main at /home/rgower/Dropbox/Scattering-1.5D/numerics/mom_linear_regression/src/moments_feature_map.jl:28 overwritten at /home/rgower/Dropbox/Scattering-1.5D/numerics/mom_linear_regression/src/moments_feature_map.jl:28.\n",
      "WARNING: Method definition apply_mofm_full(Array{Float64, N<:Any}, Int64, MultipleScattering.StatisticalMoments, Any) in module Main at /home/rgower/Dropbox/Scattering-1.5D/numerics/mom_linear_regression/src/mofm_full_feature_map.jl:5 overwritten at /home/rgower/Dropbox/Scattering-1.5D/numerics/mom_linear_regression/src/mofm_full_feature_map.jl:5.\n",
      "WARNING: Method definition get_num_mofm__full_features(MultipleScattering.StatisticalMoments, Any) in module Main at /home/rgower/Dropbox/Scattering-1.5D/numerics/mom_linear_regression/src/mofm_full_feature_map.jl:31 overwritten at /home/rgower/Dropbox/Scattering-1.5D/numerics/mom_linear_regression/src/mofm_full_feature_map.jl:31.\n",
      "WARNING: Method definition get_moment_vec(Any, Any) in module Main at /home/rgower/Dropbox/Scattering-1.5D/numerics/mom_linear_regression/src/mofm_full_feature_map.jl:45 overwritten at /home/rgower/Dropbox/Scattering-1.5D/numerics/mom_linear_regression/src/mofm_full_feature_map.jl:45.\n",
      "WARNING: Method definition get_kernel_function(AbstractString, Float64) in module Main at /home/rgower/Dropbox/Scattering-1.5D/numerics/mom_linear_regression/src/kernels.jl:7 overwritten at /home/rgower/Dropbox/Scattering-1.5D/numerics/mom_linear_regression/src/kernels.jl:7.\n",
      "WARNING: Method definition apply_identity(Array{Float64, N<:Any}, Array{Float64, N<:Any}, Float64) in module Main at /home/rgower/Dropbox/Scattering-1.5D/numerics/mom_linear_regression/src/kernels.jl:22 overwritten at /home/rgower/Dropbox/Scattering-1.5D/numerics/mom_linear_regression/src/kernels.jl:22.\n",
      "WARNING: Method definition apply_gaussk(Array{Float64, N<:Any}, Array{Float64, N<:Any}, Float64) in module Main at /home/rgower/Dropbox/Scattering-1.5D/numerics/mom_linear_regression/src/kernels.jl:27 overwritten at /home/rgower/Dropbox/Scattering-1.5D/numerics/mom_linear_regression/src/kernels.jl:27.\n",
      "WARNING: Method definition apply_OrnUhlenk(Array{Float64, N<:Any}, Array{Float64, N<:Any}, Float64) in module Main at /home/rgower/Dropbox/Scattering-1.5D/numerics/mom_linear_regression/src/kernels.jl:36 overwritten at /home/rgower/Dropbox/Scattering-1.5D/numerics/mom_linear_regression/src/kernels.jl:36.\n",
      "WARNING: Method definition apply_rationquadk(Array{Float64, N<:Any}, Array{Float64, N<:Any}, Float64) in module Main at /home/rgower/Dropbox/Scattering-1.5D/numerics/mom_linear_regression/src/kernels.jl:46 overwritten at /home/rgower/Dropbox/Scattering-1.5D/numerics/mom_linear_regression/src/kernels.jl:46.\n",
      "WARNING: Method definition applykmatrix(Array{Float64, N<:Any}, Function, Float64) in module Main at /home/rgower/Dropbox/Scattering-1.5D/numerics/mom_linear_regression/src/kernels.jl:55 overwritten at /home/rgower/Dropbox/Scattering-1.5D/numerics/mom_linear_regression/src/kernels.jl:55.\n",
      "WARNING: Method definition y_transform(Array{Float64, N<:Any}, Main.ML_model) in module Main at /home/rgower/Dropbox/Scattering-1.5D/numerics/mom_linear_regression/src/data_transformations.jl:3 overwritten at /home/rgower/Dropbox/Scattering-1.5D/numerics/mom_linear_regression/src/data_transformations.jl:3.\n",
      "WARNING: Method definition y_undo_transform(Array{Float64, N<:Any}, Main.ML_model) in module Main at /home/rgower/Dropbox/Scattering-1.5D/numerics/mom_linear_regression/src/data_transformations.jl:10 overwritten at /home/rgower/Dropbox/Scattering-1.5D/numerics/mom_linear_regression/src/data_transformations.jl:10.\n",
      "WARNING: Method definition X_transform(Array{Float64, N<:Any}, Main.ML_model) in module Main at /home/rgower/Dropbox/Scattering-1.5D/numerics/mom_linear_regression/src/data_transformations.jl:17 overwritten at /home/rgower/Dropbox/Scattering-1.5D/numerics/mom_linear_regression/src/data_transformations.jl:17.\n",
      "WARNING: Method definition x_apply_transform(Array{Float64, N<:Any}, Main.ML_model) in module Main at /home/rgower/Dropbox/Scattering-1.5D/numerics/mom_linear_regression/src/data_transformations.jl:30 overwritten at /home/rgower/Dropbox/Scattering-1.5D/numerics/mom_linear_regression/src/data_transformations.jl:30.\n",
      "WARNING: Method definition get_crossvalid_parameters(Main.FeatureMap, AbstractString, AbstractString, Any, AbstractString) in module Main at /home/rgower/Dropbox/Scattering-1.5D/numerics/mom_linear_regression/src/get_crossvalid_parameters.jl:2 overwritten at /home/rgower/Dropbox/Scattering-1.5D/numerics/mom_linear_regression/src/get_crossvalid_parameters.jl:2.\n",
      "WARNING: Method definition get_feature_L1(Main.FeatureMap, AbstractString) in module Main at /home/rgower/Dropbox/Scattering-1.5D/numerics/mom_linear_regression/src/get_crossvalid_parameters.jl:18 overwritten at /home/rgower/Dropbox/Scattering-1.5D/numerics/mom_linear_regression/src/get_crossvalid_parameters.jl:18.\n",
      "WARNING: Method definition get_model_name(Main.FeatureMap, AbstractString, AbstractString, Any) in module Main at /home/rgower/Dropbox/Scattering-1.5D/numerics/mom_linear_regression/src/get_crossvalid_parameters.jl:33 overwritten at /home/rgower/Dropbox/Scattering-1.5D/numerics/mom_linear_regression/src/get_crossvalid_parameters.jl:33.\n",
      "WARNING: Method definition learning_saturation_curve_grid_volfrac_rad_crossvalidation(Array{MultipleScattering.StatisticalMoments{Float64}, N<:Any}, Array{MultipleScattering.StatisticalMoments{Float64}, N<:Any}, Main.FeatureMap, Any, AbstractString, AbstractString, Any, Any, Any, Any, AbstractString, AbstractString) in module Main at /home/rgower/Dropbox/Scattering-1.5D/numerics/mom_linear_regression/src/learning_saturation_curve_grid_volfrac_rad_crossvalidation.jl:4 overwritten at /home/rgower/Dropbox/Scattering-1.5D/numerics/mom_linear_regression/src/learning_saturation_curve_grid_volfrac_rad_crossvalidation.jl:4.\n",
      "WARNING: Method definition findfolder(Any) in module Main at /home/rgower/Dropbox/Scattering-1.5D/numerics/mom_linear_regression/src/load_moments.jl:7 overwritten at /home/rgower/Dropbox/Scattering-1.5D/numerics/mom_linear_regression/src/load_moments.jl:7.\n",
      "WARNING: Method definition findfiles(Any) in module Main at /home/rgower/Dropbox/Scattering-1.5D/numerics/mom_linear_regression/src/load_moments.jl:18 overwritten at /home/rgower/Dropbox/Scattering-1.5D/numerics/mom_linear_regression/src/load_moments.jl:18.\n",
      "WARNING: Method definition jlsTojld(Any) in module Main at /home/rgower/Dropbox/Scattering-1.5D/numerics/mom_linear_regression/src/load_moments.jl:33 overwritten at /home/rgower/Dropbox/Scattering-1.5D/numerics/mom_linear_regression/src/load_moments.jl:33.\n",
      "WARNING: Method definition load_moments(Any) in module Main at /home/rgower/Dropbox/Scattering-1.5D/numerics/mom_linear_regression/src/load_moments.jl:46 overwritten at /home/rgower/Dropbox/Scattering-1.5D/numerics/mom_linear_regression/src/load_moments.jl:46.\n"
     ]
    }
   ],
   "source": [
    "# include Machine learning definitions and functions\n",
    "include(\"../src/MultiplyScattering_learn_moments.jl\");"
   ]
  },
  {
   "cell_type": "code",
   "execution_count": 20,
   "metadata": {},
   "outputs": [
    {
     "name": "stdout",
     "output_type": "stream",
     "text": [
      "loading:/home/rgower/Dropbox/Scattering-1.5D/numerics/mom_linear_regression/test/../../Data/bunnytime8.mnts.jld\n",
      "loading:/home/rgower/Dropbox/Scattering-1.5D/numerics/mom_linear_regression/test/../../Data/bunnytimetest8.mnts.jld\n"
     ]
    }
   ],
   "source": [
    "# Load training data\n",
    "dataname = \"bunnytime8\"; # bunnytimetest-low\n",
    "datatestname = \"bunnytimetest8\"; # bunnytimetest-extra #bunnytimetest-extra8\n",
    "\n",
    "train = load_moments(string(dataname,\".mnts\")); #bunnytime8  # bunnytime-low.\n",
    "# Load testing data\n",
    "test = load_moments(string(datatestname,\".mnts\")); #bunnytimetest8   # bunnytime-extra   # bunnytimetest-low"
   ]
  },
  {
   "cell_type": "code",
   "execution_count": 36,
   "metadata": {},
   "outputs": [
    {
     "name": "stdout",
     "output_type": "stream",
     "text": [
      "found ../data/meanmapOrnUhlen-radius-bunnytime8-crossvalid.jld with lambdabest 64.0 and kernelparam 4.0\n",
      "(#data, #features): (205, 30)\n",
      "Fitting meanmapOrnUhlen-radius\n",
      "52.5% absolute train error\n",
      "radius 28.3% absolute test error\n",
      "R squared error radius= 0.53\n"
     ]
    }
   ],
   "source": [
    "## Learning the Radius with kernal ridgeregression#\n",
    "momnums = [1,2];\n",
    "optionsr = OptionsML(momnums,[],true) \n",
    "#choose a feature map: fmmean, fmmoments, fmofm_full\n",
    "fmr = fmmean; \n",
    "#choose a kernel: \"OrnUhlen\", \"gauss\", \"rationquad\", \"\" <-- no kernal. See kernels.jl to add more kernels\n",
    "kernelname = \"OrnUhlen\";\n",
    "#retrieving the regularization parameter lambda and the kernel parameters that were calculated using  cross validation. See cross_valid.ipynb\n",
    "lambda, kernelparam = get_crossvalid_parameters(fmr,kernelname,\"radius\",optionsr,dataname);\n",
    "#setup up the machine learning model.\n",
    "mlr = setup_ml(train, fmr,  kernelname,optionsr, \"radius\");\n",
    "# fitting the radius model\n",
    "fit_L2(mlr, optionsr,  kernelname, kernelparam, lambda);\n",
    "# testing the fitted model on the test data. See plots generated in ./figures\n",
    "Rsqdr = test_linear(test,datatestname,fmr,  mlr,optionsr, \"radius\");"
   ]
  },
  {
   "cell_type": "code",
   "execution_count": 39,
   "metadata": {},
   "outputs": [
    {
     "name": "stdout",
     "output_type": "stream",
     "text": [
      "found ../data/momentsmapOrnUhlen-concen-bunnytime8-crossvalid.jld with lambdabest 5.960464477539063e-8 and kernelparam 64.0\n",
      "(#data, #features): (205, 59)\n",
      "Fitting momentsmapOrnUhlen-concen\n",
      "0.0% absolute train error\n",
      "concen 17.5% absolute test error\n",
      "R squared error concen= 0.96\n"
     ]
    }
   ],
   "source": [
    "## Learning Volfrac kernal ridgeregression\n",
    "#Choose a kernel from: \"OrnUhlen\", \"gauss\", \"rationquad\", \"\" <-- not kernal. See kernels.jl to add more kernels\n",
    "optionsv = OptionsML(momnums,[],true) \n",
    "fmv = fmmoments;  # fmmean, fmmoments, fmofm, fmofm_full\n",
    "kernelname = \"OrnUhlen\";  #\"OrnUhlen\", \"gauss\",\n",
    "#retrieving the regularization parameter lambda and the kernel parameters that were calculated using  cross validation. See cross_valid.ipynb\n",
    "lambda, kernelparam = get_crossvalid_parameters(fmv,kernelname,\"concen\",optionsv,dataname);\n",
    "# retrieving lambdas that were calculated using  cross validation. See cross_valid.ipynb\n",
    "mlv = setup_ml(train, fmv,  kernelname,optionsv, \"concen\");\n",
    "# fitting the volume model\n",
    "fit_L2(mlv, optionsv,  kernelname, kernelparam, lambda);\n",
    "# testing the fitted model on the test data. See plots generated in ./figures\n",
    "Rsqdv = test_linear(test,datatestname,fmv,  mlv,optionsv, \"concen\");"
   ]
  },
  {
   "cell_type": "code",
   "execution_count": 15,
   "metadata": {},
   "outputs": [
    {
     "name": "stdout",
     "output_type": "stream",
     "text": [
      "True (concentration, radius) = (0.03, 1.11)\n",
      "Pred (concentration, radius) = (0.021, 0.989)\n"
     ]
    }
   ],
   "source": [
    "## Predict a single particle using the kernal ridgeregression radius and volume models\n",
    "gridnum = 10;\n",
    "vl = test[gridnum].label[1]\n",
    "rd = test[gridnum].label[2]\n",
    "println(\"True (concentration, radius) = (\",floor(vl*1000)/1000,\", \",floor(rd*1000)/1000, ')');\n",
    "# Make a single prediction on test set\n",
    " vpred = predict_linear(test[gridnum], fmv,  mlv, optionsv)\n",
    " rpred = predict_linear(test[gridnum], fmr,  mlr, optionsr)\n",
    " println(\"Pred (concentration, radius) = (\",floor(vpred[1]*1000)/1000,\", \",floor(rpred[1]*1000)/1000, ')');"
   ]
  },
  {
   "cell_type": "code",
   "execution_count": null,
   "metadata": {},
   "outputs": [],
   "source": []
  }
 ],
 "metadata": {
  "anaconda-cloud": {},
  "kernelspec": {
   "display_name": "Julia 0.5.2",
   "language": "julia",
   "name": "julia-0.5"
  },
  "language_info": {
   "file_extension": ".jl",
   "mimetype": "application/julia",
   "name": "julia",
   "version": "0.5.2"
  }
 },
 "nbformat": 4,
 "nbformat_minor": 1
}
