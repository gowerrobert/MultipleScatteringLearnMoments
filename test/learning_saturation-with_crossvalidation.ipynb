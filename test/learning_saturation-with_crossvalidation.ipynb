{
 "cells": [
  {
   "cell_type": "markdown",
   "metadata": {},
   "source": [
    "Here we calculate different learning/test saturation curves as we gradually increase the amount of training data used.\n",
    "\n",
    "NOTE 1: For each partial training set, we perform a complete crossvalidation, making this VERY computationally costly "
   ]
  },
  {
   "cell_type": "code",
   "execution_count": 6,
   "metadata": {},
   "outputs": [],
   "source": [
    "# Dependencies\n",
    "using Plots "
   ]
  },
  {
   "cell_type": "code",
   "execution_count": 1,
   "metadata": {},
   "outputs": [],
   "source": [
    "# include Machine learning definitions and functions\n",
    "using MultipleScattering\n",
    "using MultipleScatteringLearnMoments"
   ]
  },
  {
   "cell_type": "code",
   "execution_count": 2,
   "metadata": {},
   "outputs": [
    {
     "name": "stdout",
     "output_type": "stream",
     "text": [
      "loading:/home/rgower/.julia/v0.5/MultipleScatteringLearnMoments/test/../data/bunnytime.mnts.jld\n",
      "loading:/home/rgower/.julia/v0.5/MultipleScatteringLearnMoments/test/../data/bunnytimetest.mnts.jld\n"
     ]
    }
   ],
   "source": [
    "# Load training data\n",
    "dataname = \"bunnytime\";\n",
    "datatestname = \"bunnytimetest\";\n",
    "# Load traingin data\n",
    "train = load_moments(string(dataname,\".mnts\"));\n",
    "# Load test data\n",
    "test = load_moments(string(datatestname,\".mnts\"));"
   ]
  },
  {
   "cell_type": "code",
   "execution_count": 3,
   "metadata": {},
   "outputs": [],
   "source": [
    "# Parameters for cross-validation.\n",
    "print_and_plot_figures = false;\n",
    "momnums = [1,2];\n",
    "options= OptionsML(momnums,[],print_and_plot_figures) ;"
   ]
  },
  {
   "cell_type": "code",
   "execution_count": 4,
   "metadata": {},
   "outputs": [],
   "source": [
    "# Parameters for cross-validation\n",
    "lambdas =  [ 2.0^-16.0, 2.0^(-8.0), 2.0^(-4.0), 2.0^(-2.0), 2.0^(-1.0), 1.0,  2.0^(1.0), 2.0^2.0, 2.0^4.0, 2.0^6.0 ]; # the grid of possible lambdas\n",
    "crossnum = 7;\n",
    "kerneles = [\"\", \"OrnUhlen\", \"gauss\" ]; #[\"OrnUhlen\"];\n",
    "fms = [fmmoments,fmmean,fmofm_full]; #,  \n",
    "kernelparams = [ 2.0^-16.0, 2.0^(-8.0), 2.0^(-4.0), 2.0^(-2.0), 2.0^(-1.0), 1.0,  2.0^(1.0), 2.0^2.0, 2.0^4.0, 2.0^6.0 ];"
   ]
  },
  {
   "cell_type": "code",
   "execution_count": 11,
   "metadata": {},
   "outputs": [
    {
     "name": "stdout",
     "output_type": "stream",
     "text": [
      "found ../data/momentsmapOrnUhlen-radius-bunnytime-crossvalid.jld with lambdabest 5.960464477539063e-8 and kernelparam 16.0\n",
      "Training with 20 points\n",
      "Training with 40 points\n",
      "Training with 60 points\n",
      "Training with 80 points\n",
      "Training with 100 points\n",
      "Training with 120 points\n",
      "Training with 140 points\n",
      "Training with 160 points\n",
      "Training with 180 points\n",
      "Training with 200 points\n",
      "saving the learning curves in ../data/momentsmapOrnUhlen-radius-learncurve-crossvalid.jld\n",
      "found ../data/momentsmapOrnUhlen-concen-bunnytime-crossvalid.jld with lambdabest 0.25 and kernelparam 2.0\n",
      "Training with 20 points\n",
      "Training with 40 points\n",
      "Training with 60 points\n",
      "Training with 80 points\n",
      "Training with 100 points\n",
      "Training with 120 points\n",
      "Training with 140 points\n",
      "Training with 160 points\n",
      "Training with 180 points\n",
      "Training with 200 points\n",
      "saving the learning curves in ../data/momentsmapOrnUhlen-concen-learncurve-crossvalid.jld\n"
     ]
    }
   ],
   "source": [
    "# Learning curve as we increase number of grid points on volfrac vs radius grid\n",
    "# feature map \n",
    "fm = fmmoments;\n",
    "# kernel \n",
    "kernelname = \"OrnUhlen\";\n",
    "numparts = 10;\n",
    "# Calculating learning curve\n",
    "gr()\n",
    "learning_saturation_curve_grid_volfrac_rad_crossvalidation(train, test, fm, options, kernelname, \"radius\",kernelparams, crossnum,lambdas,numparts,dataname,datatestname)\n",
    "learning_saturation_curve_grid_volfrac_rad_crossvalidation(train, test, fm, options, kernelname, \"concen\",kernelparams, crossnum,lambdas,numparts,dataname,datatestname)"
   ]
  },
  {
   "cell_type": "code",
   "execution_count": null,
   "metadata": {},
   "outputs": [
    {
     "name": "stdout",
     "output_type": "stream",
     "text": [
      "found ../data/meanmapOrnUhlen-radius-bunnytime-crossvalid.jld with lambdabest 64.0 and kernelparam 4.0\n",
      "Training with 20 points\n",
      "Training with 40 points\n",
      "Training with 60"
     ]
    }
   ],
   "source": [
    "# Learning curve as we increase number of grid points on volfrac vs radius grid\n",
    "# feature map  \n",
    "fm = fmmean;\n",
    "# kernel \n",
    "kernelname = \"OrnUhlen\";\n",
    "# Calculating learning curve\n",
    "learning_saturation_curve_grid_volfrac_rad_crossvalidation(train, test, fm, options, kernelname, \"radius\",kernelparams, crossnum,lambdas,numparts,dataname,datatestname)\n",
    "learning_saturation_curve_grid_volfrac_rad_crossvalidation(train, test, fm, options, kernelname, \"concen\",kernelparams, crossnum,lambdas,numparts,dataname,datatestname)"
   ]
  },
  {
   "cell_type": "code",
   "execution_count": null,
   "metadata": {},
   "outputs": [],
   "source": [
    "# Learning curve as we increase number of grid points on volfrac vs radius grid\n",
    "# feature map \n",
    "fm = fmmoments;\n",
    "# kernel \n",
    "kernelname = \"gauss\";\n",
    "# Calculating learning curve\n",
    "pgfplots()\n",
    "learning_saturation_curve_grid_volfrac_rad_crossvalidation(train,\n",
    "test, fm, options, kernelname, \"radius\",kernelparams, crossnum,lambdas,numparts, dataname,datatestname)\n",
    "learning_saturation_curve_grid_volfrac_rad_crossvalidation(train,\n",
    "test, fm, options, kernelname, \"concen\",kernelparams, crossnum,lambdas,numparts, dataname,datatestname)"
   ]
  },
  {
   "cell_type": "code",
   "execution_count": null,
   "metadata": {},
   "outputs": [],
   "source": [
    "# Learning curve as we increase number of grid points on volfrac vs radius grid\n",
    "# feature map  \n",
    "fm = fmmean;\n",
    "# kernel \n",
    "kernelname = \"gauss\";\n",
    "# Calculating learning curve\n",
    "learning_saturation_curve_grid_volfrac_rad_crossvalidation(train,\n",
    "test, fm, options, kernelname, \"radius\",kernelparams, crossnum,lambdas,numparts, dataname,datatestname)\n",
    "learning_saturation_curve_grid_volfrac_rad_crossvalidation(train,\n",
    "test, fm, options, kernelname, \"concen\",kernelparams, crossnum,lambdas,numparts, dataname,datatestname)"
   ]
  },
  {
   "cell_type": "code",
   "execution_count": null,
   "metadata": {},
   "outputs": [],
   "source": []
  }
 ],
 "metadata": {
  "anaconda-cloud": {},
  "kernelspec": {
   "display_name": "Julia 0.5.2",
   "language": "julia",
   "name": "julia-0.5"
  },
  "language_info": {
   "file_extension": ".jl",
   "mimetype": "application/julia",
   "name": "julia",
   "version": "0.5.2"
  }
 },
 "nbformat": 4,
 "nbformat_minor": 2
}
