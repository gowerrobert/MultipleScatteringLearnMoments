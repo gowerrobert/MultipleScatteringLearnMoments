{
 "cells": [
  {
   "cell_type": "markdown",
   "metadata": {},
   "source": [
    "Here we calculate different learning/test saturation curves as we gradually increase the amount of training data used.\n",
    "\n",
    "NOTE 1: For each partial training set, we perform a complete crossvalidation, making this VERY computationally costly "
   ]
  },
  {
   "cell_type": "code",
   "execution_count": 2,
   "metadata": {},
   "outputs": [],
   "source": [
    "# Dependencies\n",
    "using StatsBase\n",
    "using LaTeXStrings\n",
    "using JLD\n",
    "using GLMNet\n",
    "using Plots "
   ]
  },
  {
   "cell_type": "code",
   "execution_count": 3,
   "metadata": {},
   "outputs": [],
   "source": [
    "# include Machine learning definitions and functions\n",
    "include(\"../src/MultiplyScattering_learn_moments.jl\");"
   ]
  },
  {
   "cell_type": "code",
   "execution_count": 4,
   "metadata": {},
   "outputs": [
    {
     "name": "stdout",
     "output_type": "stream",
     "text": [
      "loading:/home/rgower/Dropbox/Scattering-1.5D/numerics/mom_linear_regression/test/../../Data/bunnytime8.mnts.jld\n",
      "loading:/home/rgower/Dropbox/Scattering-1.5D/numerics/mom_linear_regression/test/../../Data/bunnytimetest8.mnts.jld\n"
     ]
    }
   ],
   "source": [
    "# Load training data\n",
    "dataname = \"bunnytime8\"; # bunnytimetest-low\n",
    "datatestname = \"bunnytimetest8\"; # bunnytimetest-extra #bunnytimetest-extra8\n",
    "train = load_moments(string(dataname,\".mnts.jld\")); #bunnytime8  # bunnytime-low.\n",
    "# Load testing data\n",
    "test = load_moments(string(datatestname,\".mnts.jld\")); #bunnytimetest8   # bunnytime-extra   # bunnytimetest-low"
   ]
  },
  {
   "cell_type": "code",
   "execution_count": 7,
   "metadata": {},
   "outputs": [],
   "source": [
    "# Parameters for cross-validation.\n",
    "print_and_plot_figures = false;\n",
    "momnums = [1,2];\n",
    "options= OptionsML(momnums,[],print_and_plot_figures) ;"
   ]
  },
  {
   "cell_type": "code",
   "execution_count": 8,
   "metadata": {},
   "outputs": [],
   "source": [
    "# Parameters for cross-validation\n",
    "lambdas =  [ 2.0^-16.0, 2.0^(-8.0), 2.0^(-4.0), 2.0^(-2.0), 2.0^(-1.0), 1.0,  2.0^(1.0), 2.0^2.0, 2.0^4.0, 2.0^6.0 ]; # the grid of possible lambdas\n",
    "crossnum = 7;\n",
    "kerneles = [\"\", \"OrnUhlen\", \"gauss\" ]; #[\"OrnUhlen\"];\n",
    "fms = [fmmoments,fmmean,fmofm_full]; #,  \n",
    "kernelparams = [ 2.0^-16.0, 2.0^(-8.0), 2.0^(-4.0), 2.0^(-2.0), 2.0^(-1.0), 1.0,  2.0^(1.0), 2.0^2.0, 2.0^4.0, 2.0^6.0 ];"
   ]
  },
  {
   "cell_type": "code",
   "execution_count": 9,
   "metadata": {},
   "outputs": [
    {
     "name": "stdout",
     "output_type": "stream",
     "text": [
      "found ../data/momentsmapOrnUhlen-radius-bunnytime8-crossvalid.jld with lambdabest 5.960464477539063e-8 and kernelparam 16.0\n",
      "Training with 20 points\n",
      "Training with 40 points\n",
      "Training with 60 points\n",
      "Training with 80 points\n",
      "Training with 100 points\n",
      "Training with 120 points\n",
      "Training with 140 points\n",
      "Training with 160 points\n",
      "Training with 180 points\n",
      "Training with 200 points\n",
      "saving the learning curves in ../data/momentsmapOrnUhlen-radius-learncurve-crossvalid.jld\n",
      "found ../data/momentsmapOrnUhlen-concen-bunnytime8-crossvalid.jld with lambdabest 5.960464477539063e-8 and kernelparam 64.0\n",
      "Training with 20 points\n",
      "Training with 40 points\n",
      "Training with 60 points\n",
      "Training with 80 points\n",
      "Training with 100 points\n",
      "Training with 120 points\n",
      "Training with 140 points\n",
      "Training with 160 points\n",
      "Training with 180 points\n",
      "Training with 200 points\n",
      "saving the learning curves in ../data/momentsmapOrnUhlen-concen-learncurve-crossvalid.jld\n"
     ]
    }
   ],
   "source": [
    "# Learning curve as we increase number of grid points on volfrac vs radius grid\n",
    "# feature map \n",
    "fm = fmmoments;\n",
    "# kernel \n",
    "kernelname = \"OrnUhlen\";\n",
    "numparts = 10;\n",
    "# Calculating learning curve\n",
    "gr()\n",
    "learning_saturation_curve_grid_volfrac_rad_crossvalidation(train, test, fm, options, kernelname, \"radius\",kernelparams, crossnum,lambdas,numparts,dataname,datatestname)\n",
    "learning_saturation_curve_grid_volfrac_rad_crossvalidation(train, test, fm, options, kernelname, \"concen\",kernelparams, crossnum,lambdas,numparts,dataname,datatestname)"
   ]
  },
  {
   "cell_type": "code",
   "execution_count": 10,
   "metadata": {},
   "outputs": [
    {
     "name": "stdout",
     "output_type": "stream",
     "text": [
      "found ../data/meanmapOrnUhlen-radius-bunnytime8-crossvalid.jld with lambdabest 64.0 and kernelparam 4.0\n",
      "Training with 20 points\n",
      "Training with 40 points\n",
      "Training with 60 points\n",
      "Training with 80 points\n",
      "Training with 100 points\n",
      "Training with 120 points\n",
      "Training with 140 points\n",
      "Training with 160 points\n",
      "Training with 180 points\n",
      "Training with 200 points\n",
      "saving the learning curves in ../data/meanmapOrnUhlen-radius-learncurve-crossvalid.jld\n",
      "found ../data/meanmapOrnUhlen-concen-bunnytime8-crossvalid.jld with lambdabest 0.00390625 and kernelparam 64.0\n",
      "Training with 20 points\n",
      "Training with 40 points\n",
      "Training with 60 points\n",
      "Training with 80 points\n",
      "Training with 100 points\n",
      "Training with 120 points\n",
      "Training with 140 points\n",
      "Training with 160 points\n",
      "Training with 180 points\n",
      "Training with 200 points\n",
      "saving the learning curves in ../data/meanmapOrnUhlen-concen-learncurve-crossvalid.jld\n"
     ]
    }
   ],
   "source": [
    "# Learning curve as we increase number of grid points on volfrac vs radius grid\n",
    "# feature map  \n",
    "fm = fmmean;\n",
    "# kernel \n",
    "kernelname = \"OrnUhlen\";\n",
    "# Calculating learning curve\n",
    "learning_saturation_curve_grid_volfrac_rad_crossvalidation(train, test, fm, options, kernelname, \"radius\",kernelparams, crossnum,lambdas,numparts,dataname,datatestname)\n",
    "learning_saturation_curve_grid_volfrac_rad_crossvalidation(train, test, fm, options, kernelname, \"concen\",kernelparams, crossnum,lambdas,numparts,dataname,datatestname)"
   ]
  },
  {
   "cell_type": "code",
   "execution_count": 11,
   "metadata": {},
   "outputs": [
    {
     "name": "stdout",
     "output_type": "stream",
     "text": [
      "found ../data/momentsmapgauss-radius-bunnytime8-crossvalid.jld with lambdabest "
     ]
    },
    {
     "name": "stderr",
     "output_type": "stream",
     "text": [
      "WARNING: Method definition describe(AbstractArray) in module StatsBase at /home/rgower/.julia/v0.5/StatsBase/src/scalarstats.jl:560 overwritten in module DataFrames at /home/rgower/.julia/v0.5/DataFrames/src/abstractdataframe/abstractdataframe.jl:407.\n"
     ]
    },
    {
     "name": "stdout",
     "output_type": "stream",
     "text": [
      "1.52587890625e-5 and kernelparam 1.0\n",
      "Training with 20 points\n",
      "Training with 40 points\n",
      "Training with 60 points\n",
      "Training with 80 points\n",
      "Training with 100 points\n",
      "Training with 120 points\n",
      "Training with 140 points\n",
      "Training with 160 points\n",
      "Training with 180 points\n",
      "Training with 200 points\n",
      "saving the learning curves in ../data/momentsmapgauss-radius-learncurve-crossvalid.jld\n",
      "! LaTeX Error: File `luatexbase.sty' not found.\n",
      "\n",
      "Type X to quit or <RETURN> to proceed,\n",
      "or enter new name. (Default extension: sty)\n",
      "\n",
      "Enter file name: \n",
      "! Emergency stop.\n",
      "<read *> \n",
      "   \n",
      "l.65 \n",
      "    \n",
      "End of file on the terminal!\n",
      "\n",
      "\n",
      "\n",
      "Here is how much of LuaTeX's memory you used:\n",
      " 11387 strings out of 495004\n",
      " 100000,266212 words of node,token memory allocated 235 words of node memory still in use:\n",
      "   1 hlist, 1 rule, 37 glue_spec, 1 write, 1 dir, 1 pdf_colorstack nodes\n",
      "   avail lists: 2:19,3:1,4:3,6:2,7:1,9:3\n",
      " 14554 multiletter control sequences out of 65536+600000\n",
      " 15 fonts using 601983 bytes\n",
      " 62i,0n,56p,417b,84s stack positions out of 5000i,500n,10000p,200000b,100000s\n",
      "!  ==> Fatal error occurred, no output PDF file produced!\n",
      "\n"
     ]
    },
    {
     "ename": "LoadError",
     "evalue": "LaTeX error",
     "output_type": "error",
     "traceback": [
      "LaTeX error",
      "",
      " in save(::TikzPictures.PDF, ::TikzPictures.TikzPicture) at /home/rgower/.julia/v0.5/TikzPictures/src/TikzPictures.jl:211",
      " in _show(::IOStream, ::MIME{Symbol(\"application/pdf\")}, ::Plots.Plot{Plots.PGFPlotsBackend}) at /home/rgower/.julia/v0.5/Plots/src/backends/pgfplots.jl:403",
      " in show(::IOStream, ::MIME{Symbol(\"application/pdf\")}, ::Plots.Plot{Plots.PGFPlotsBackend}) at /home/rgower/.julia/v0.5/Plots/src/output.jl:197",
      " in pdf(::Plots.Plot{Plots.PGFPlotsBackend}, ::String) at /home/rgower/.julia/v0.5/Plots/src/output.jl:25",
      " in savefig(::Plots.Plot{Plots.PGFPlotsBackend}, ::String) at /home/rgower/.julia/v0.5/Plots/src/output.jl:116",
      " in learning_saturation_curve_grid_volfrac_rad_crossvalidation(::Array{MultipleScattering.StatisticalMoments{Float64},1}, ::Array{MultipleScattering.StatisticalMoments{Float64},1}, ::FeatureMap, ::OptionsML, ::String, ::String, ::Array{Float64,1}, ::Int64, ::Array{Float64,1}, ::Int64, ::String, ::String) at /home/rgower/Dropbox/Scattering-1.5D/numerics/mom_linear_regression/src/learning_saturation_curve_grid_volfrac_rad_crossvalidation.jl:35",
      " in include_string(::String, ::String) at ./loading.jl:441"
     ]
    }
   ],
   "source": [
    "# Learning curve as we increase number of grid points on volfrac vs radius grid\n",
    "# feature map \n",
    "fm = fmmoments;\n",
    "# kernel \n",
    "kernelname = \"gauss\";\n",
    "# Calculating learning curve\n",
    "pgfplots()\n",
    "learning_saturation_curve_grid_volfrac_rad_crossvalidation(train,\n",
    "test, fm, options, kernelname, \"radius\",kernelparams, crossnum,lambdas,numparts, dataname,datatestname)\n",
    "learning_saturation_curve_grid_volfrac_rad_crossvalidation(train,\n",
    "test, fm, options, kernelname, \"concen\",kernelparams, crossnum,lambdas,numparts, dataname,datatestname)"
   ]
  },
  {
   "cell_type": "code",
   "execution_count": 9,
   "metadata": {},
   "outputs": [
    {
     "ename": "LoadError",
     "evalue": "MethodError: no method matching learning_saturation_curve_grid_volfrac_rad_crossvalidation(::Array{StatisticalMoments{Float64},1}, ::Array{StatisticalMoments{Float64},1}, ::FeatureMap, ::OptionsML, ::String, ::String, ::Array{Float64,1}, ::Int64, ::Array{Float64,1}, ::Int64)\u001b[0m\nClosest candidates are:\n  learning_saturation_curve_grid_volfrac_rad_crossvalidation(::Array{StatisticalMoments{Float64},N}, ::Array{StatisticalMoments{Float64},N}, ::FeatureMap, ::Any, ::AbstractString, ::AbstractString, ::Any, ::Any, ::Any, ::Any, \u001b[1m\u001b[31m::AbstractString\u001b[0m) at /home/rgower/Dropbox/Scattering-1.5D/numerics/mom_linear_regression/src/learning_saturation_curve_grid_volfrac_rad_crossvalidation.jl:4\u001b[0m",
     "output_type": "error",
     "traceback": [
      "MethodError: no method matching learning_saturation_curve_grid_volfrac_rad_crossvalidation(::Array{StatisticalMoments{Float64},1}, ::Array{StatisticalMoments{Float64},1}, ::FeatureMap, ::OptionsML, ::String, ::String, ::Array{Float64,1}, ::Int64, ::Array{Float64,1}, ::Int64)\u001b[0m\nClosest candidates are:\n  learning_saturation_curve_grid_volfrac_rad_crossvalidation(::Array{StatisticalMoments{Float64},N}, ::Array{StatisticalMoments{Float64},N}, ::FeatureMap, ::Any, ::AbstractString, ::AbstractString, ::Any, ::Any, ::Any, ::Any, \u001b[1m\u001b[31m::AbstractString\u001b[0m) at /home/rgower/Dropbox/Scattering-1.5D/numerics/mom_linear_regression/src/learning_saturation_curve_grid_volfrac_rad_crossvalidation.jl:4\u001b[0m",
      "",
      " in include_string(::String, ::String) at ./loading.jl:441"
     ]
    }
   ],
   "source": [
    "# Learning curve as we increase number of grid points on volfrac vs radius grid\n",
    "# feature map  \n",
    "fm = fmmean;\n",
    "# kernel \n",
    "kernelname = \"gauss\";\n",
    "# Calculating learning curve\n",
    "learning_saturation_curve_grid_volfrac_rad_crossvalidation(train,\n",
    "test, fm, options, kernelname, \"radius\",kernelparams, crossnum,lambdas,numparts, dataname,datatestname)\n",
    "learning_saturation_curve_grid_volfrac_rad_crossvalidation(train,\n",
    "test, fm, options, kernelname, \"concen\",kernelparams, crossnum,lambdas,numparts, dataname,datatestname)"
   ]
  },
  {
   "cell_type": "code",
   "execution_count": null,
   "metadata": {},
   "outputs": [],
   "source": []
  }
 ],
 "metadata": {
  "anaconda-cloud": {},
  "kernelspec": {
   "display_name": "Julia 0.5.2",
   "language": "julia",
   "name": "julia-0.5"
  },
  "language_info": {
   "file_extension": ".jl",
   "mimetype": "application/julia",
   "name": "julia",
   "version": "0.5.2"
  }
 },
 "nbformat": 4,
 "nbformat_minor": 2
}
