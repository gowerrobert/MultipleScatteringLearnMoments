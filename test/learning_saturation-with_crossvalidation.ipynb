{
 "cells": [
  {
   "cell_type": "markdown",
   "metadata": {},
   "source": [
    "Here we calculate different learning/test saturation curves as we gradually increase the amount of training data used.\n",
    "\n",
    "NOTE 1: For each partial training set, we perform a complete crossvalidation, making this VERY computationally costly "
   ]
  },
  {
   "cell_type": "code",
   "execution_count": 1,
   "metadata": {
    "collapsed": true
   },
   "outputs": [],
   "source": [
    "# Dependencies\n",
    "using StatsBase\n",
    "using LaTeXStrings\n",
    "using JLD\n",
    "using GLMNet\n",
    "using Plots "
   ]
  },
  {
   "cell_type": "code",
   "execution_count": 2,
   "metadata": {},
   "outputs": [
    {
     "ename": "LoadError",
     "evalue": "\u001b[91mcould not open file /home/art/.julia/v0.6/MultipleScatteringLearnMoments/src/MultiplyScattering_learn_moments.jl\u001b[39m",
     "output_type": "error",
     "traceback": [
      "\u001b[91mcould not open file /home/art/.julia/v0.6/MultipleScatteringLearnMoments/src/MultiplyScattering_learn_moments.jl\u001b[39m",
      "",
      "Stacktrace:",
      " [1] \u001b[1minclude_from_node1\u001b[22m\u001b[22m\u001b[1m(\u001b[22m\u001b[22m::String\u001b[1m)\u001b[22m\u001b[22m at \u001b[1m./loading.jl:569\u001b[22m\u001b[22m",
      " [2] \u001b[1minclude\u001b[22m\u001b[22m\u001b[1m(\u001b[22m\u001b[22m::String\u001b[1m)\u001b[22m\u001b[22m at \u001b[1m./sysimg.jl:14\u001b[22m\u001b[22m",
      " [3] \u001b[1minclude_string\u001b[22m\u001b[22m\u001b[1m(\u001b[22m\u001b[22m::String, ::String\u001b[1m)\u001b[22m\u001b[22m at \u001b[1m./loading.jl:515\u001b[22m\u001b[22m"
     ]
    }
   ],
   "source": [
    "# include Machine learning definitions and functions\n",
    "include(\"../src/MultiplyScattering_learn_moments.jl\");"
   ]
  },
  {
   "cell_type": "code",
   "execution_count": 3,
   "metadata": {},
   "outputs": [
    {
     "ename": "LoadError",
     "evalue": "\u001b[91mUndefVarError: load_moments not defined\u001b[39m",
     "output_type": "error",
     "traceback": [
      "\u001b[91mUndefVarError: load_moments not defined\u001b[39m",
      "",
      "Stacktrace:",
      " [1] \u001b[1minclude_string\u001b[22m\u001b[22m\u001b[1m(\u001b[22m\u001b[22m::String, ::String\u001b[1m)\u001b[22m\u001b[22m at \u001b[1m./loading.jl:515\u001b[22m\u001b[22m"
     ]
    }
   ],
   "source": [
    "# Load training data\n",
    "dataname = \"bunnytime8\"; # bunnytimetest-low\n",
    "datatestname = \"bunnytimetest8\"; # bunnytimetest-extra #bunnytimetest-extra8\n",
    "train = load_moments(string(dataname,\".mnts.jld\")); #bunnytime8  # bunnytime-low.\n",
    "# Load testing data\n",
    "test = load_moments(string(datatestname,\".mnts.jld\")); #bunnytimetest8   # bunnytime-extra   # bunnytimetest-low"
   ]
  },
  {
   "cell_type": "code",
   "execution_count": 4,
   "metadata": {},
   "outputs": [
    {
     "ename": "LoadError",
     "evalue": "\u001b[91mUndefVarError: OptionsML not defined\u001b[39m",
     "output_type": "error",
     "traceback": [
      "\u001b[91mUndefVarError: OptionsML not defined\u001b[39m",
      "",
      "Stacktrace:",
      " [1] \u001b[1minclude_string\u001b[22m\u001b[22m\u001b[1m(\u001b[22m\u001b[22m::String, ::String\u001b[1m)\u001b[22m\u001b[22m at \u001b[1m./loading.jl:515\u001b[22m\u001b[22m"
     ]
    }
   ],
   "source": [
    "# Parameters for cross-validation.\n",
    "print_and_plot_figures = false;\n",
    "momnums = [1,2];\n",
    "options= OptionsML(momnums,[],print_and_plot_figures) ;"
   ]
  },
  {
   "cell_type": "code",
   "execution_count": 5,
   "metadata": {},
   "outputs": [
    {
     "ename": "LoadError",
     "evalue": "\u001b[91mUndefVarError: fmmoments not defined\u001b[39m",
     "output_type": "error",
     "traceback": [
      "\u001b[91mUndefVarError: fmmoments not defined\u001b[39m",
      "",
      "Stacktrace:",
      " [1] \u001b[1minclude_string\u001b[22m\u001b[22m\u001b[1m(\u001b[22m\u001b[22m::String, ::String\u001b[1m)\u001b[22m\u001b[22m at \u001b[1m./loading.jl:515\u001b[22m\u001b[22m"
     ]
    }
   ],
   "source": [
    "# Parameters for cross-validation\n",
    "lambdas =  [ 2.0^-16.0, 2.0^(-8.0), 2.0^(-4.0), 2.0^(-2.0), 2.0^(-1.0), 1.0,  2.0^(1.0), 2.0^2.0, 2.0^4.0, 2.0^6.0 ]; # the grid of possible lambdas\n",
    "crossnum = 7;\n",
    "kerneles = [\"\", \"OrnUhlen\", \"gauss\" ]; #[\"OrnUhlen\"];\n",
    "fms = [fmmoments,fmmean,fmofm_full]; #,  \n",
    "kernelparams = [ 2.0^-16.0, 2.0^(-8.0), 2.0^(-4.0), 2.0^(-2.0), 2.0^(-1.0), 1.0,  2.0^(1.0), 2.0^2.0, 2.0^4.0, 2.0^6.0 ];"
   ]
  },
  {
   "cell_type": "code",
   "execution_count": 6,
   "metadata": {},
   "outputs": [
    {
     "ename": "LoadError",
     "evalue": "\u001b[91mUndefVarError: fmmoments not defined\u001b[39m",
     "output_type": "error",
     "traceback": [
      "\u001b[91mUndefVarError: fmmoments not defined\u001b[39m",
      "",
      "Stacktrace:",
      " [1] \u001b[1minclude_string\u001b[22m\u001b[22m\u001b[1m(\u001b[22m\u001b[22m::String, ::String\u001b[1m)\u001b[22m\u001b[22m at \u001b[1m./loading.jl:515\u001b[22m\u001b[22m"
     ]
    }
   ],
   "source": [
    "# Learning curve as we increase number of grid points on volfrac vs radius grid\n",
    "# feature map \n",
    "fm = fmmoments;\n",
    "# kernel \n",
    "kernelname = \"OrnUhlen\";\n",
    "numparts = 10;\n",
    "# Calculating learning curve\n",
    "gr()\n",
    "learning_saturation_curve_grid_volfrac_rad_crossvalidation(train, test, fm, options, kernelname, \"radius\",kernelparams, crossnum,lambdas,numparts,dataname,datatestname)\n",
    "learning_saturation_curve_grid_volfrac_rad_crossvalidation(train, test, fm, options, kernelname, \"concen\",kernelparams, crossnum,lambdas,numparts,dataname,datatestname)"
   ]
  },
  {
   "cell_type": "code",
   "execution_count": 7,
   "metadata": {},
   "outputs": [
    {
     "ename": "LoadError",
     "evalue": "\u001b[91mUndefVarError: fmmean not defined\u001b[39m",
     "output_type": "error",
     "traceback": [
      "\u001b[91mUndefVarError: fmmean not defined\u001b[39m",
      "",
      "Stacktrace:",
      " [1] \u001b[1minclude_string\u001b[22m\u001b[22m\u001b[1m(\u001b[22m\u001b[22m::String, ::String\u001b[1m)\u001b[22m\u001b[22m at \u001b[1m./loading.jl:515\u001b[22m\u001b[22m"
     ]
    }
   ],
   "source": [
    "# Learning curve as we increase number of grid points on volfrac vs radius grid\n",
    "# feature map  \n",
    "fm = fmmean;\n",
    "# kernel \n",
    "kernelname = \"OrnUhlen\";\n",
    "# Calculating learning curve\n",
    "learning_saturation_curve_grid_volfrac_rad_crossvalidation(train, test, fm, options, kernelname, \"radius\",kernelparams, crossnum,lambdas,numparts,dataname,datatestname)\n",
    "learning_saturation_curve_grid_volfrac_rad_crossvalidation(train, test, fm, options, kernelname, \"concen\",kernelparams, crossnum,lambdas,numparts,dataname,datatestname)"
   ]
  },
  {
   "cell_type": "code",
   "execution_count": 8,
   "metadata": {},
   "outputs": [
    {
     "ename": "LoadError",
     "evalue": "\u001b[91mUndefVarError: fmmoments not defined\u001b[39m",
     "output_type": "error",
     "traceback": [
      "\u001b[91mUndefVarError: fmmoments not defined\u001b[39m",
      "",
      "Stacktrace:",
      " [1] \u001b[1minclude_string\u001b[22m\u001b[22m\u001b[1m(\u001b[22m\u001b[22m::String, ::String\u001b[1m)\u001b[22m\u001b[22m at \u001b[1m./loading.jl:515\u001b[22m\u001b[22m"
     ]
    }
   ],
   "source": [
    "# Learning curve as we increase number of grid points on volfrac vs radius grid\n",
    "# feature map \n",
    "fm = fmmoments;\n",
    "# kernel \n",
    "kernelname = \"gauss\";\n",
    "# Calculating learning curve\n",
    "pgfplots()\n",
    "learning_saturation_curve_grid_volfrac_rad_crossvalidation(train,\n",
    "test, fm, options, kernelname, \"radius\",kernelparams, crossnum,lambdas,numparts, dataname,datatestname)\n",
    "learning_saturation_curve_grid_volfrac_rad_crossvalidation(train,\n",
    "test, fm, options, kernelname, \"concen\",kernelparams, crossnum,lambdas,numparts, dataname,datatestname)"
   ]
  },
  {
   "cell_type": "code",
   "execution_count": 9,
   "metadata": {},
   "outputs": [
    {
     "ename": "LoadError",
     "evalue": "\u001b[91mUndefVarError: fmmean not defined\u001b[39m",
     "output_type": "error",
     "traceback": [
      "\u001b[91mUndefVarError: fmmean not defined\u001b[39m",
      "",
      "Stacktrace:",
      " [1] \u001b[1minclude_string\u001b[22m\u001b[22m\u001b[1m(\u001b[22m\u001b[22m::String, ::String\u001b[1m)\u001b[22m\u001b[22m at \u001b[1m./loading.jl:515\u001b[22m\u001b[22m"
     ]
    }
   ],
   "source": [
    "# Learning curve as we increase number of grid points on volfrac vs radius grid\n",
    "# feature map  \n",
    "fm = fmmean;\n",
    "# kernel \n",
    "kernelname = \"gauss\";\n",
    "# Calculating learning curve\n",
    "learning_saturation_curve_grid_volfrac_rad_crossvalidation(train,\n",
    "test, fm, options, kernelname, \"radius\",kernelparams, crossnum,lambdas,numparts, dataname,datatestname)\n",
    "learning_saturation_curve_grid_volfrac_rad_crossvalidation(train,\n",
    "test, fm, options, kernelname, \"concen\",kernelparams, crossnum,lambdas,numparts, dataname,datatestname)"
   ]
  },
  {
   "cell_type": "code",
   "execution_count": null,
   "metadata": {
    "collapsed": true
   },
   "outputs": [],
   "source": []
  }
 ],
 "metadata": {
  "anaconda-cloud": {},
  "kernelspec": {
   "display_name": "Julia 0.5.1-pre",
   "language": "julia",
   "name": "julia-0.5"
  },
  "language_info": {
   "file_extension": ".jl",
   "mimetype": "application/julia",
   "name": "julia",
   "version": "0.6.0"
  }
 },
 "nbformat": 4,
 "nbformat_minor": 2
}
