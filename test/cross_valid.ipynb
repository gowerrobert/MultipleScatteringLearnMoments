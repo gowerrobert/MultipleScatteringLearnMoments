{
 "cells": [
  {
   "cell_type": "code",
   "execution_count": 2,
   "metadata": {},
   "outputs": [],
   "source": [
    "# include Machine learning definitions and functions\n",
    "using MultipleScattering\n",
    "using MultipleScatteringLearnMoments"
   ]
  },
  {
   "cell_type": "code",
   "execution_count": 3,
   "metadata": {},
   "outputs": [
    {
     "name": "stdout",
     "output_type": "stream",
     "text": [
      "loading:/home/rgower/.julia/v0.5/MultipleScatteringLearnMoments/test/../data/bunnytime.mnts.jld\n"
     ]
    }
   ],
   "source": [
    "# Load training data\n",
    "dataname=  \"bunnytime\"; # bunnytime-low\n",
    "train = load_moments(string(dataname,\".mnts\")); #bunnytime8 "
   ]
  },
  {
   "cell_type": "code",
   "execution_count": 4,
   "metadata": {},
   "outputs": [],
   "source": [
    "# Parameters for cross-validation\n",
    "momnums = [1,2];   # Choose the moments to be used during training\n",
    "options = OptionsML(momnums,[],false); \n",
    "lambdasv =  [ 2.0^-24.0, 2.0^-16.0, 2.0^-8.0,  2.0^-4.0, 2.0^-2.0, 2.0^-1.0, 1.0,  2.0^1.0, 2.0^2.0, 2.0^4.0 , 2.0^6.0 ]; # the grid of possible lambdas\n",
    "crossnum =7; #the number of parts the training data is divided into to perform the cross validation \n",
    "kerneles = [\"rationquad\"] #,\"OrnUhlen\", \"gauss\", \n",
    "fms = [  fmmoments ]# fmmean  ,fmofm_full, fmmoments\n",
    " kernelparams = [ 2.0^-24.0, 2.0^-16.0, 2.0^(-8.0), 2.0^(-4.0), 2.0^(-2.0), 2.0^(-1.0), 1.0,  2.0^(1.0), 2.0^2.0, 2.0^4.0, 2.0^6.0 ];"
   ]
  },
  {
   "cell_type": "code",
   "execution_count": null,
   "metadata": {},
   "outputs": [
    {
     "name": "stdout",
     "output_type": "stream",
     "text": [
      "Kernel: rationquad\n",
      "Feature map: momentsmap\n",
      "best lambda score = 0.891 was with lambda = 5.960464477539063e-8 and klparameter = 0.00390625\n",
      "saving the best lambda and kernalparameter in ../data/momentsmaprationquad-radius-bunnytime8-crossvalid.jld\n"
     ]
    }
   ],
   "source": [
    "# crossvalid: calculates and saves the regularization parameter lambda for each feature map and each kernel\n",
    "options = OptionsML(momnums,[],false); \n",
    "for kernel in kerneles\n",
    "    println(\"Kernel: \", kernel)\n",
    "    for fm in fms\n",
    "        println(\"Feature map: \", fm.name)\n",
    "        cross_valid_inner(train, fm, options, kernel, kernelparams,crossnum,lambdasv, \"radius\", true, dataname)\n",
    "        cross_valid_inner(train, fm, options, kernel, kernelparams,crossnum,lambdasv, \"concen\",true, dataname)\n",
    "        cross_valid_inner(train, fm, options, kernel, kernelparams,crossnum,lambdasv, \"volumefraction\",true, dataname)\n",
    "    end\n",
    "end"
   ]
  },
  {
   "cell_type": "code",
   "execution_count": 5,
   "metadata": {},
   "outputs": [
    {
     "name": "stdout",
     "output_type": "stream",
     "text": [
      "loading:/home/rgower/.julia/v0.5/MultipleScatteringLearnMoments/test/../data/bunnytimetest.mnts.jld\n"
     ]
    }
   ],
   "source": [
    "# Load training data\n",
    "datatestname = \"bunnytimetest\";\n",
    "test = load_moments(string(datatestname,\".mnts\")); "
   ]
  },
  {
   "cell_type": "code",
   "execution_count": 6,
   "metadata": {},
   "outputs": [
    {
     "name": "stdout",
     "output_type": "stream",
     "text": [
      "R squared error radius= 0.93\n",
      "found ../data/momentsmaprationquad-concen-bunnytime-crossvalid.jld with lambdabest 1.34587890625e-5 and kernelparam 0.00390625\n",
      "(#data, #features): (205, 59)\n",
      "Fitting momentsmaprationquad-concen\n",
      "2.9% absolute train error\n",
      "concen 16.8% absolute test error\n",
      "R squared error concen= 0.96\n",
      "found ../data/momentsmaprationquad-volumefraction-bunnytime-crossvalid.jld with lambdabest 0.25 and kernelparam 0.5\n",
      "(#data, #features): (205, 59)\n",
      "Fitting momentsmaprationquad-volumefraction\n",
      "16.3% absolute train error\n",
      "volumefraction 22.7% absolute test error\n",
      "R squared error volumefraction= 0.8\n"
     ]
    }
   ],
   "source": [
    "## retrieve and test cross-validated lambdas\n",
    "pgfplots()\n",
    "options = OptionsML(momnums,[],true); \n",
    "for kernelname in kerneles\n",
    "    for fm in fms\n",
    "        lambda, kernelparam = get_crossvalid_parameters(fm,kernelname,\"radius\", options, dataname);\n",
    "        mlr = setup_ml(train, fm,  kernelname,options, \"radius\");\n",
    "        fit_L2(mlr, options,  kernelname, kernelparam, lambda);\n",
    "        Rsqdr = test_linear(test,datatestname,fm,mlr,options, \"radius\");\n",
    "        \n",
    "        lambda, kernelparam = get_crossvalid_parameters(fm,kernelname,\"concen\",options, dataname);\n",
    "        mlv = setup_ml(train, fm,  kernelname,options, \"concen\");\n",
    "        fit_L2(mlv, options,  kernelname, kernelparam, lambda);\n",
    "        Rsqdr = test_linear(test,datatestname,fm,mlv,options, \"concen\");   \n",
    "        \n",
    "        lambda, kernelparam = get_crossvalid_parameters(fm,kernelname,\"volumefraction\",options, dataname);\n",
    "        mlv = setup_ml(train, fm,  kernelname,options, \"volumefraction\");\n",
    "        fit_L2(mlv, options,  kernelname, kernelparam, lambda);\n",
    "        Rsqdr = test_linear(test,datatestname,fm,mlv,options, \"volumefraction\");         \n",
    "    end\n",
    "end"
   ]
  },
  {
   "cell_type": "code",
   "execution_count": null,
   "metadata": {},
   "outputs": [],
   "source": []
  }
 ],
 "metadata": {
  "anaconda-cloud": {},
  "kernelspec": {
   "display_name": "Julia 0.5.2",
   "language": "julia",
   "name": "julia-0.5"
  },
  "language_info": {
   "file_extension": ".jl",
   "mimetype": "application/julia",
   "name": "julia",
   "version": "0.5.2"
  }
 },
 "nbformat": 4,
 "nbformat_minor": 2
}
