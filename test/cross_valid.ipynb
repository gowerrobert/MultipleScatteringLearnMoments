{
 "cells": [
  {
   "cell_type": "code",
   "execution_count": 1,
   "metadata": {},
   "outputs": [
    {
     "name": "stderr",
     "output_type": "stream",
     "text": [
      "\n",
      "WARNING: deprecated syntax \"abstract Shape\" at /home/art/.julia/v0.6/MultipleScattering/src/MultipleScattering.jl:15.\n",
      "Use \"abstract type Shape end\" instead.\n"
     ]
    }
   ],
   "source": [
    "# include Machine learning definitions and functions\n",
    "using MultipleScattering\n",
    "using MultipleScatteringLearnMoments"
   ]
  },
  {
   "cell_type": "code",
   "execution_count": 2,
   "metadata": {},
   "outputs": [
    {
     "name": "stdout",
     "output_type": "stream",
     "text": [
      "loading:/home/art/.julia/v0.6/MultipleScatteringLearnMoments/test/../data/bunnytime.mnts.jld\n"
     ]
    }
   ],
   "source": [
    "# Load training data\n",
    "dataname=  \"bunnytime\"; # bunnytime-low\n",
    "train = load_moments(string(dataname,\".mnts\")); #bunnytime8 "
   ]
  },
  {
   "cell_type": "code",
   "execution_count": 3,
   "metadata": {
    "collapsed": true
   },
   "outputs": [],
   "source": [
    "# Parameters for cross-validation\n",
    "momnums = [1,2];   # Choose the moments to be used during training\n",
    "options = OptionsML(momnums,[],false); \n",
    "lambdasv =  [ 2.0^-24.0, 2.0^-16.0, 2.0^-8.0,  2.0^-4.0, 2.0^-2.0, 2.0^-1.0, 1.0,  2.0^1.0, 2.0^2.0, 2.0^4.0 , 2.0^6.0 ]; # the grid of possible lambdas\n",
    "crossnum =7; #the number of parts the training data is divided into to perform the cross validation \n",
    "kerneles = [\"rationquad\"] #,\"OrnUhlen\", \"gauss\", \n",
    "fms = [  fmmoments ]# fmmean  ,fmofm_full, fmmoments\n",
    " kernelparams = [ 2.0^-24.0, 2.0^-16.0, 2.0^(-8.0), 2.0^(-4.0), 2.0^(-2.0), 2.0^(-1.0), 1.0,  2.0^(1.0), 2.0^2.0, 2.0^4.0, 2.0^6.0 ];"
   ]
  },
  {
   "cell_type": "code",
   "execution_count": 4,
   "metadata": {},
   "outputs": [
    {
     "name": "stdout",
     "output_type": "stream",
     "text": [
      "Kernel: rationquad\n",
      "Feature map: momentsmap\n",
      "best lambda score = 0.893 was with lambda = 5.960464477539063e-8 and klparameter = 0.0625\n",
      "saving the best lambda and kernalparameter in ../data/momentsmaprationquad-radius-bunnytime-crossvalid.jld\n",
      "best lambda score = 0.979 was with lambda = 5.960464477539063e-8 and klparameter = 0.00390625\n",
      "saving the best lambda and kernalparameter in ../data/momentsmaprationquad-concen-bunnytime-crossvalid.jld\n",
      "best lambda score = 0.679 was with lambda = 1.52587890625e-5 and klparameter = 0.00390625\n",
      "saving the best lambda and kernalparameter in ../data/momentsmaprationquad-volumefraction-bunnytime-crossvalid.jld\n"
     ]
    }
   ],
   "source": [
    "# crossvalid: calculates and saves the regularization parameter lambda for each feature map and each kernel\n",
    "options = OptionsML(momnums,[],false); \n",
    "for kernel in kerneles\n",
    "    println(\"Kernel: \", kernel)\n",
    "    for fm in fms\n",
    "        println(\"Feature map: \", fm.name)\n",
    "        cross_valid_inner(train, fm, options, kernel, kernelparams,crossnum,lambdasv, \"radius\", true, dataname)\n",
    "        cross_valid_inner(train, fm, options, kernel, kernelparams,crossnum,lambdasv, \"concen\",true, dataname)\n",
    "        cross_valid_inner(train, fm, options, kernel, kernelparams,crossnum,lambdasv, \"volumefraction\",true, dataname)\n",
    "    end\n",
    "end"
   ]
  },
  {
   "cell_type": "code",
   "execution_count": 5,
   "metadata": {},
   "outputs": [
    {
     "name": "stdout",
     "output_type": "stream",
     "text": [
      "loading:/home/art/.julia/v0.6/MultipleScatteringLearnMoments/test/../data/bunnytimetest.mnts.jld\n"
     ]
    }
   ],
   "source": [
    "# Load test data\n",
    "datatestname = \"bunnytimetest\";\n",
    "test = load_moments(string(datatestname,\".mnts\")); "
   ]
  },
  {
   "cell_type": "code",
   "execution_count": 8,
   "metadata": {},
   "outputs": [
    {
     "name": "stdout",
     "output_type": "stream",
     "text": [
      "found ../data/momentsmaprationquad-radius-bunnytime-crossvalid.jld with lambdabest 5.960464477539063e-8 and kernelparam 0.00390625\n",
      "(#data, #features): (205, 59)\n",
      "Fitting momentsmaprationquad-radius\n",
      "0.1% absolute train error\n",
      "radius 11.2% absolute test error\n",
      "R squared error radius= 0.93\n",
      "found ../data/momentsmaprationquad-concen-bunnytime-crossvalid.jld with lambdabest 5.960464477539063e-8 and kernelparam 0.00390625\n",
      "(#data, #features): (205, 59)\n",
      "Fitting momentsmaprationquad-concen\n",
      "0.0% absolute train error\n",
      "concen 17.6% absolute test error\n",
      "R squared error concen= 0.96\n",
      "found ../data/momentsmaprationquad-volumefraction-bunnytime-crossvalid.jld with lambdabest 1.52587890625e-5 and kernelparam 0.00390625\n",
      "(#data, #features): (205, 59)\n",
      "Fitting momentsmaprationquad-volumefraction\n",
      "16.0% absolute train error\n",
      "volumefraction 22.6% absolute test error\n",
      "R squared error volumefraction= 0.81\n"
     ]
    }
   ],
   "source": [
    "## retrieve and test cross-validated lambdas\n",
    "using Plots\n",
    "pyplot()\n",
    "options = OptionsML(momnums,[],true); \n",
    "for kernelname in kerneles\n",
    "    for fm in fms\n",
    "        lambda, kernelparam = get_crossvalid_parameters(fm,kernelname,\"radius\", options, dataname);\n",
    "        mlr = setup_ml(train, fm,  kernelname,options, \"radius\");\n",
    "        fit_L2(mlr, options,  kernelname, kernelparam, lambda);\n",
    "        Rsqdr = test_linear(test,datatestname,fm,mlr,options, \"radius\");\n",
    "        \n",
    "        lambda, kernelparam = get_crossvalid_parameters(fm,kernelname,\"concen\",options, dataname);\n",
    "        mlv = setup_ml(train, fm,  kernelname,options, \"concen\");\n",
    "        fit_L2(mlv, options,  kernelname, kernelparam, lambda);\n",
    "        Rsqdr = test_linear(test,datatestname,fm,mlv,options, \"concen\");   \n",
    "        \n",
    "        lambda, kernelparam = get_crossvalid_parameters(fm,kernelname,\"volumefraction\",options, dataname);\n",
    "        mlv = setup_ml(train, fm,  kernelname,options, \"volumefraction\");\n",
    "        fit_L2(mlv, options,  kernelname, kernelparam, lambda);\n",
    "        Rsqdr = test_linear(test,datatestname,fm,mlv,options, \"volumefraction\");         \n",
    "    end\n",
    "end"
   ]
  },
  {
   "cell_type": "code",
   "execution_count": null,
   "metadata": {
    "collapsed": true
   },
   "outputs": [],
   "source": []
  }
 ],
 "metadata": {
  "anaconda-cloud": {},
  "kernelspec": {
   "display_name": "Julia 0.5.1-pre",
   "language": "julia",
   "name": "julia-0.5"
  },
  "language_info": {
   "file_extension": ".jl",
   "mimetype": "application/julia",
   "name": "julia",
   "version": "0.6.0"
  }
 },
 "nbformat": 4,
 "nbformat_minor": 2
}
