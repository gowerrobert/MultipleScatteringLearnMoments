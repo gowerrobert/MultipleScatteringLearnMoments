{
 "cells": [
  {
   "cell_type": "code",
   "execution_count": 10,
   "metadata": {},
   "outputs": [],
   "source": [
    "# Dependencies\n",
    "using StatsBase\n",
    "using LaTeXStrings\n",
    "using JLD\n",
    "using GLMNet\n",
    "using Plots "
   ]
  },
  {
   "cell_type": "code",
   "execution_count": 11,
   "metadata": {},
   "outputs": [
    {
     "name": "stderr",
     "output_type": "stream",
     "text": [
      "WARNING: Method definition (::Type{Main.ML_model})(Float64, Array{Float64, N<:Any}, Float64, Float64, Array{Float64, N<:Any}, Array{Float64, N<:Any}, Array{Float64, N<:Any}, AbstractString, Int64, Int64, Array{Float64, N<:Any}, AbstractString, Float64, Function) in module Main at /home/rgower/Dropbox/Scattering-1.5D/numerics/mom_linear_regression/src/MultiplyScattering_learn_moments.jl:15 overwritten at /home/rgower/Dropbox/Scattering-1.5D/numerics/mom_linear_regression/src/MultiplyScattering_learn_moments.jl:15.\n",
      "WARNING: Method definition (::Type{Main.ML_model})(Any, Any, Any, Any, Any, Any, Any, Any, Any, Any, Any, Any, Any, Any) in module Main at /home/rgower/Dropbox/Scattering-1.5D/numerics/mom_linear_regression/src/MultiplyScattering_learn_moments.jl:15 overwritten at /home/rgower/Dropbox/Scattering-1.5D/numerics/mom_linear_regression/src/MultiplyScattering_learn_moments.jl:15.\n",
      "WARNING: Method definition (::Type{Main.OptionsML})(Array{Int64, N<:Any}, Array{Float64, N<:Any}, Bool) in module Main at /home/rgower/Dropbox/Scattering-1.5D/numerics/mom_linear_regression/src/MultiplyScattering_learn_moments.jl:32 overwritten at /home/rgower/Dropbox/Scattering-1.5D/numerics/mom_linear_regression/src/MultiplyScattering_learn_moments.jl:32.\n",
      "WARNING: Method definition (::Type{Main.OptionsML})(Any, Any, Any) in module Main at /home/rgower/Dropbox/Scattering-1.5D/numerics/mom_linear_regression/src/MultiplyScattering_learn_moments.jl:32 overwritten at /home/rgower/Dropbox/Scattering-1.5D/numerics/mom_linear_regression/src/MultiplyScattering_learn_moments.jl:32.\n",
      "WARNING: Method definition (::Type{Main.FeatureMap})(Function, Function, AbstractString) in module Main at /home/rgower/Dropbox/Scattering-1.5D/numerics/mom_linear_regression/src/MultiplyScattering_learn_moments.jl:39 overwritten at /home/rgower/Dropbox/Scattering-1.5D/numerics/mom_linear_regression/src/MultiplyScattering_learn_moments.jl:39.\n",
      "WARNING: Method definition (::Type{Main.FeatureMap})(Any, Any, Any) in module Main at /home/rgower/Dropbox/Scattering-1.5D/numerics/mom_linear_regression/src/MultiplyScattering_learn_moments.jl:39 overwritten at /home/rgower/Dropbox/Scattering-1.5D/numerics/mom_linear_regression/src/MultiplyScattering_learn_moments.jl:39.\n",
      "WARNING: Method definition cross_valid_inner(Array{MultipleScattering.StatisticalMoments{Float64}, N<:Any}, Main.FeatureMap, Main.OptionsML, AbstractString, Array{Float64, N<:Any}, Int64, Array{Float64, N<:Any}, AbstractString, Bool, AbstractString) in module Main at /home/rgower/Dropbox/Scattering-1.5D/numerics/mom_linear_regression/src/cross_valid_inner.jl:4 overwritten at /home/rgower/Dropbox/Scattering-1.5D/numerics/mom_linear_regression/src/cross_valid_inner.jl:4.\n",
      "WARNING: Method definition setup_ml(Array{MultipleScattering.StatisticalMoments{Float64}, N<:Any}, Main.FeatureMap, AbstractString, Any, AbstractString) in module Main at /home/rgower/Dropbox/Scattering-1.5D/numerics/mom_linear_regression/src/setup_ml.jl:8 overwritten at /home/rgower/Dropbox/Scattering-1.5D/numerics/mom_linear_regression/src/setup_ml.jl:8.\n",
      "WARNING: Method definition fit_L2(Main.ML_model, Any, Any, Any, Any) in module Main at /home/rgower/Dropbox/Scattering-1.5D/numerics/mom_linear_regression/src/fit_L2.jl:8 overwritten at /home/rgower/Dropbox/Scattering-1.5D/numerics/mom_linear_regression/src/fit_L2.jl:8.\n",
      "WARNING: Method definition fit_L1(Main.ML_model, Any, Any) in module Main at /home/rgower/Dropbox/Scattering-1.5D/numerics/mom_linear_regression/src/fit_L1.jl:9 overwritten at /home/rgower/Dropbox/Scattering-1.5D/numerics/mom_linear_regression/src/fit_L1.jl:9.\n",
      "WARNING: Method definition predict_linear(MultipleScattering.StatisticalMoments, Main.FeatureMap, Main.ML_model, Any) in module Main at /home/rgower/Dropbox/Scattering-1.5D/numerics/mom_linear_regression/src/predict_linear.jl:3 overwritten at /home/rgower/Dropbox/Scattering-1.5D/numerics/mom_linear_regression/src/predict_linear.jl:3.\n",
      "WARNING: Method definition test_linear(Array{MultipleScattering.StatisticalMoments{Float64}, N<:Any}, AbstractString, Main.FeatureMap, Main.ML_model, Any, AbstractString) in module Main at /home/rgower/Dropbox/Scattering-1.5D/numerics/mom_linear_regression/src/test_linear.jl:5 overwritten at /home/rgower/Dropbox/Scattering-1.5D/numerics/mom_linear_regression/src/test_linear.jl:5.\n",
      "WARNING: Method definition #test_linear(Array{Any, 1}, Main.#test_linear, Array{MultipleScattering.StatisticalMoments{Float64}, N<:Any}, AbstractString, Main.FeatureMap, Main.ML_model, Any, AbstractString) in module Main overwritten.\n",
      "WARNING: Method definition testerror_heatmap(Array{MultipleScattering.StatisticalMoments{Float64}, N<:Any}, Main.FeatureMap, Main.ML_model, Any, AbstractString) in module Main at /home/rgower/Dropbox/Scattering-1.5D/numerics/mom_linear_regression/src/testerror_heatmap.jl:6 overwritten at /home/rgower/Dropbox/Scattering-1.5D/numerics/mom_linear_regression/src/testerror_heatmap.jl:6.\n",
      "WARNING: Method definition #testerror_heatmap(Array{Any, 1}, Main.#testerror_heatmap, Array{MultipleScattering.StatisticalMoments{Float64}, N<:Any}, Main.FeatureMap, Main.ML_model, Any, AbstractString) in module Main overwritten.\n",
      "WARNING: Method definition Ferr_internal(MultipleScattering.StatisticalMoments, Main.ML_model, Main.FeatureMap, Array{Float64, N<:Any}, Any, AbstractString) in module Main at /home/rgower/Dropbox/Scattering-1.5D/numerics/mom_linear_regression/src/testerror_heatmap.jl:18 overwritten at /home/rgower/Dropbox/Scattering-1.5D/numerics/mom_linear_regression/src/testerror_heatmap.jl:18.\n",
      "WARNING: Method definition plotmom_heatmap(Array{MultipleScattering.StatisticalMoments{Float64}, N<:Any}) in module Main at /home/rgower/Dropbox/Scattering-1.5D/numerics/mom_linear_regression/src/testerror_heatmap.jl:32 overwritten at /home/rgower/Dropbox/Scattering-1.5D/numerics/mom_linear_regression/src/testerror_heatmap.jl:32.\n",
      "WARNING: Method definition plotmom_heatmap(Array{MultipleScattering.StatisticalMoments{Float64}, N<:Any}, Any) in module Main at /home/rgower/Dropbox/Scattering-1.5D/numerics/mom_linear_regression/src/testerror_heatmap.jl:32 overwritten at /home/rgower/Dropbox/Scattering-1.5D/numerics/mom_linear_regression/src/testerror_heatmap.jl:32.\n",
      "WARNING: Method definition apply_mean(Array{Float64, N<:Any}, Int64, MultipleScattering.StatisticalMoments, Any) in module Main at /home/rgower/Dropbox/Scattering-1.5D/numerics/mom_linear_regression/src/mean_feature_map.jl:4 overwritten at /home/rgower/Dropbox/Scattering-1.5D/numerics/mom_linear_regression/src/mean_feature_map.jl:4.\n",
      "WARNING: Method definition get_num_mean_features(MultipleScattering.StatisticalMoments, Any) in module Main at /home/rgower/Dropbox/Scattering-1.5D/numerics/mom_linear_regression/src/mean_feature_map.jl:11 overwritten at /home/rgower/Dropbox/Scattering-1.5D/numerics/mom_linear_regression/src/mean_feature_map.jl:11.\n",
      "WARNING: Method definition apply_moments(Array{Float64, N<:Any}, Int64, MultipleScattering.StatisticalMoments, Any) in module Main at /home/rgower/Dropbox/Scattering-1.5D/numerics/mom_linear_regression/src/moments_feature_map.jl:5 overwritten at /home/rgower/Dropbox/Scattering-1.5D/numerics/mom_linear_regression/src/moments_feature_map.jl:5.\n",
      "WARNING: Method definition get_num_moments_features(MultipleScattering.StatisticalMoments, Any) in module Main at /home/rgower/Dropbox/Scattering-1.5D/numerics/mom_linear_regression/src/moments_feature_map.jl:28 overwritten at /home/rgower/Dropbox/Scattering-1.5D/numerics/mom_linear_regression/src/moments_feature_map.jl:28.\n",
      "WARNING: Method definition apply_mofm_full(Array{Float64, N<:Any}, Int64, MultipleScattering.StatisticalMoments, Any) in module Main at /home/rgower/Dropbox/Scattering-1.5D/numerics/mom_linear_regression/src/mofm_full_feature_map.jl:5 overwritten at /home/rgower/Dropbox/Scattering-1.5D/numerics/mom_linear_regression/src/mofm_full_feature_map.jl:5.\n",
      "WARNING: Method definition get_num_mofm__full_features(MultipleScattering.StatisticalMoments, Any) in module Main at /home/rgower/Dropbox/Scattering-1.5D/numerics/mom_linear_regression/src/mofm_full_feature_map.jl:31 overwritten at /home/rgower/Dropbox/Scattering-1.5D/numerics/mom_linear_regression/src/mofm_full_feature_map.jl:31.\n",
      "WARNING: Method definition get_moment_vec(Any, Any) in module Main at /home/rgower/Dropbox/Scattering-1.5D/numerics/mom_linear_regression/src/mofm_full_feature_map.jl:45 overwritten at /home/rgower/Dropbox/Scattering-1.5D/numerics/mom_linear_regression/src/mofm_full_feature_map.jl:45.\n",
      "WARNING: Method definition get_kernel_function(AbstractString, Float64) in module Main at /home/rgower/Dropbox/Scattering-1.5D/numerics/mom_linear_regression/src/kernels.jl:7 overwritten at /home/rgower/Dropbox/Scattering-1.5D/numerics/mom_linear_regression/src/kernels.jl:7.\n",
      "WARNING: Method definition apply_identity(Array{Float64, N<:Any}, Array{Float64, N<:Any}, Float64) in module Main at /home/rgower/Dropbox/Scattering-1.5D/numerics/mom_linear_regression/src/kernels.jl:22 overwritten at /home/rgower/Dropbox/Scattering-1.5D/numerics/mom_linear_regression/src/kernels.jl:22.\n",
      "WARNING: Method definition apply_gaussk(Array{Float64, N<:Any}, Array{Float64, N<:Any}, Float64) in module Main at /home/rgower/Dropbox/Scattering-1.5D/numerics/mom_linear_regression/src/kernels.jl:27 overwritten at /home/rgower/Dropbox/Scattering-1.5D/numerics/mom_linear_regression/src/kernels.jl:27.\n",
      "WARNING: Method definition apply_OrnUhlenk(Array{Float64, N<:Any}, Array{Float64, N<:Any}, Float64) in module Main at /home/rgower/Dropbox/Scattering-1.5D/numerics/mom_linear_regression/src/kernels.jl:36 overwritten at /home/rgower/Dropbox/Scattering-1.5D/numerics/mom_linear_regression/src/kernels.jl:36.\n",
      "WARNING: Method definition apply_rationquadk(Array{Float64, N<:Any}, Array{Float64, N<:Any}, Float64) in module Main at /home/rgower/Dropbox/Scattering-1.5D/numerics/mom_linear_regression/src/kernels.jl:46 overwritten at /home/rgower/Dropbox/Scattering-1.5D/numerics/mom_linear_regression/src/kernels.jl:46.\n",
      "WARNING: Method definition applykmatrix(Array{Float64, N<:Any}, Function, Float64) in module Main at /home/rgower/Dropbox/Scattering-1.5D/numerics/mom_linear_regression/src/kernels.jl:55 overwritten at /home/rgower/Dropbox/Scattering-1.5D/numerics/mom_linear_regression/src/kernels.jl:55.\n",
      "WARNING: Method definition y_transform(Array{Float64, N<:Any}, Main.ML_model) in module Main at /home/rgower/Dropbox/Scattering-1.5D/numerics/mom_linear_regression/src/data_transformations.jl:3 overwritten at /home/rgower/Dropbox/Scattering-1.5D/numerics/mom_linear_regression/src/data_transformations.jl:3.\n",
      "WARNING: Method definition y_undo_transform(Array{Float64, N<:Any}, Main.ML_model) in module Main at /home/rgower/Dropbox/Scattering-1.5D/numerics/mom_linear_regression/src/data_transformations.jl:10 overwritten at /home/rgower/Dropbox/Scattering-1.5D/numerics/mom_linear_regression/src/data_transformations.jl:10.\n",
      "WARNING: Method definition X_transform(Array{Float64, N<:Any}, Main.ML_model) in module Main at /home/rgower/Dropbox/Scattering-1.5D/numerics/mom_linear_regression/src/data_transformations.jl:17 overwritten at /home/rgower/Dropbox/Scattering-1.5D/numerics/mom_linear_regression/src/data_transformations.jl:17.\n",
      "WARNING: Method definition x_apply_transform(Array{Float64, N<:Any}, Main.ML_model) in module Main at /home/rgower/Dropbox/Scattering-1.5D/numerics/mom_linear_regression/src/data_transformations.jl:30 overwritten at /home/rgower/Dropbox/Scattering-1.5D/numerics/mom_linear_regression/src/data_transformations.jl:30.\n",
      "WARNING: Method definition get_crossvalid_parameters(Main.FeatureMap, AbstractString, AbstractString, Any, AbstractString) in module Main at /home/rgower/Dropbox/Scattering-1.5D/numerics/mom_linear_regression/src/get_crossvalid_parameters.jl:2 overwritten at /home/rgower/Dropbox/Scattering-1.5D/numerics/mom_linear_regression/src/get_crossvalid_parameters.jl:2.\n",
      "WARNING: Method definition get_feature_L1(Main.FeatureMap, AbstractString) in module Main at /home/rgower/Dropbox/Scattering-1.5D/numerics/mom_linear_regression/src/get_crossvalid_parameters.jl:18 overwritten at /home/rgower/Dropbox/Scattering-1.5D/numerics/mom_linear_regression/src/get_crossvalid_parameters.jl:18.\n",
      "WARNING: Method definition get_model_name(Main.FeatureMap, AbstractString, AbstractString, Any) in module Main at /home/rgower/Dropbox/Scattering-1.5D/numerics/mom_linear_regression/src/get_crossvalid_parameters.jl:33 overwritten at /home/rgower/Dropbox/Scattering-1.5D/numerics/mom_linear_regression/src/get_crossvalid_parameters.jl:33.\n",
      "WARNING: Method definition learning_saturation_curve_grid_volfrac_rad_crossvalidation(Array{MultipleScattering.StatisticalMoments{Float64}, N<:Any}, Array{MultipleScattering.StatisticalMoments{Float64}, N<:Any}, Main.FeatureMap, Any, AbstractString, AbstractString, Any, Any, Any, Any, AbstractString, AbstractString) in module Main at /home/rgower/Dropbox/Scattering-1.5D/numerics/mom_linear_regression/src/learning_saturation_curve_grid_volfrac_rad_crossvalidation.jl:4 overwritten at /home/rgower/Dropbox/Scattering-1.5D/numerics/mom_linear_regression/src/learning_saturation_curve_grid_volfrac_rad_crossvalidation.jl:4.\n",
      "WARNING: Method definition findfolder(Any) in module Main at /home/rgower/Dropbox/Scattering-1.5D/numerics/mom_linear_regression/src/load_moments.jl:7 overwritten at /home/rgower/Dropbox/Scattering-1.5D/numerics/mom_linear_regression/src/load_moments.jl:7.\n",
      "WARNING: Method definition findfiles(Any) in module Main at /home/rgower/Dropbox/Scattering-1.5D/numerics/mom_linear_regression/src/load_moments.jl:18 overwritten at /home/rgower/Dropbox/Scattering-1.5D/numerics/mom_linear_regression/src/load_moments.jl:18.\n",
      "WARNING: Method definition jlsTojld(Any) in module Main at /home/rgower/Dropbox/Scattering-1.5D/numerics/mom_linear_regression/src/load_moments.jl:33 overwritten at /home/rgower/Dropbox/Scattering-1.5D/numerics/mom_linear_regression/src/load_moments.jl:33.\n",
      "WARNING: Method definition load_moments(Any) in module Main at /home/rgower/Dropbox/Scattering-1.5D/numerics/mom_linear_regression/src/load_moments.jl:46 overwritten at /home/rgower/Dropbox/Scattering-1.5D/numerics/mom_linear_regression/src/load_moments.jl:46.\n"
     ]
    }
   ],
   "source": [
    "# include Machine learning definitions and functions\n",
    "include(\"../src/MultiplyScattering_learn_moments.jl\");"
   ]
  },
  {
   "cell_type": "code",
   "execution_count": 12,
   "metadata": {},
   "outputs": [
    {
     "name": "stdout",
     "output_type": "stream",
     "text": [
      "loading:/home/rgower/Dropbox/Scattering-1.5D/numerics/mom_linear_regression/test/../../Data/bunnytime8.mnts.jld\n"
     ]
    }
   ],
   "source": [
    "# Load training data\n",
    "dataname=  \"bunnytime8\"; # bunnytime-low\n",
    "train = load_moments(string(dataname,\".mnts\")); #bunnytime8 "
   ]
  },
  {
   "cell_type": "code",
   "execution_count": 13,
   "metadata": {},
   "outputs": [],
   "source": [
    "# Parameters for cross-validation\n",
    "momnums = [1,2];   # Choose the moments to be used during training\n",
    "options = OptionsML(momnums,[],false); \n",
    "lambdasv =  [ 2.0^-24.0, 2.0^-16.0, 2.0^-8.0,  2.0^-4.0, 2.0^-2.0, 2.0^-1.0, 1.0,  2.0^1.0, 2.0^2.0, 2.0^4.0 , 2.0^6.0 ]; # the grid of possible lambdas\n",
    "crossnum =7; #the number of parts the training data is divided into to perform the cross validation \n",
    "kerneles = [\"rationquad\"] #,\"OrnUhlen\", \"gauss\", \n",
    "fms = [  fmmoments ]# fmmean  ,fmofm_full, fmmoments\n",
    " kernelparams = [ 2.0^-24.0, 2.0^-16.0, 2.0^(-8.0), 2.0^(-4.0), 2.0^(-2.0), 2.0^(-1.0), 1.0,  2.0^(1.0), 2.0^2.0, 2.0^4.0, 2.0^6.0 ];"
   ]
  },
  {
   "cell_type": "code",
   "execution_count": null,
   "metadata": {},
   "outputs": [
    {
     "name": "stdout",
     "output_type": "stream",
     "text": [
      "Kernel: rationquad\n",
      "Feature map: momentsmap\n",
      "best lambda score = 0.891 was with lambda = 5.960464477539063e-8 and klparameter = 0.00390625\n",
      "saving the best lambda and kernalparameter in ../data/momentsmaprationquad-radius-bunnytime8-crossvalid.jld\n"
     ]
    }
   ],
   "source": [
    "# crossvalid: calculates and saves the regularization parameter lambda for each feature map and each kernel\n",
    "options = OptionsML(momnums,[],false); \n",
    "for kernel in kerneles\n",
    "    println(\"Kernel: \", kernel)\n",
    "    for fm in fms\n",
    "        println(\"Feature map: \", fm.name)\n",
    "        cross_valid_inner(train, fm, options, kernel, kernelparams,crossnum,lambdasv, \"radius\", true, dataname)\n",
    "        cross_valid_inner(train, fm, options, kernel, kernelparams,crossnum,lambdasv, \"concen\",true, dataname)\n",
    "        cross_valid_inner(train, fm, options, kernel, kernelparams,crossnum,lambdasv, \"volumefraction\",true, dataname)\n",
    "    end\n",
    "end"
   ]
  },
  {
   "cell_type": "code",
   "execution_count": null,
   "metadata": {},
   "outputs": [],
   "source": [
    "# Load training data\n",
    "datatestname = \"bunnytimetest8\";\n",
    "test = load_moments(string(datatestname,\".mnts\")); "
   ]
  },
  {
   "cell_type": "code",
   "execution_count": null,
   "metadata": {},
   "outputs": [],
   "source": [
    "## retrieve and test cross-validated lambdas\n",
    "pgfplots()\n",
    "options = OptionsML(momnums,[],true); \n",
    "for kernelname in kerneles\n",
    "    for fm in fms\n",
    "        lambda, kernelparam = get_crossvalid_parameters(fm,kernelname,\"radius\", options, dataname);\n",
    "        mlr = setup_ml(train, fm,  kernelname,options, \"radius\");\n",
    "        fit_L2(mlr, options,  kernelname, kernelparam, lambda);\n",
    "        Rsqdr = test_linear(test,datatestname,fm,mlr,options, \"radius\");\n",
    "        \n",
    "        lambda, kernelparam = get_crossvalid_parameters(fm,kernelname,\"concen\",options, dataname);\n",
    "        mlv = setup_ml(train, fm,  kernelname,options, \"concen\");\n",
    "        fit_L2(mlv, options,  kernelname, kernelparam, lambda);\n",
    "        Rsqdr = test_linear(test,datatestname,fm,mlv,options, \"concen\");   \n",
    "        \n",
    "        lambda, kernelparam = get_crossvalid_parameters(fm,kernelname,\"volumefraction\",options, dataname);\n",
    "        mlv = setup_ml(train, fm,  kernelname,options, \"volumefraction\");\n",
    "        fit_L2(mlv, options,  kernelname, kernelparam, lambda);\n",
    "        Rsqdr = test_linear(test,datatestname,fm,mlv,options, \"volumefraction\");         \n",
    "    end\n",
    "end"
   ]
  },
  {
   "cell_type": "code",
   "execution_count": null,
   "metadata": {},
   "outputs": [],
   "source": []
  }
 ],
 "metadata": {
  "anaconda-cloud": {},
  "kernelspec": {
   "display_name": "Julia 0.5.2",
   "language": "julia",
   "name": "julia-0.5"
  },
  "language_info": {
   "file_extension": ".jl",
   "mimetype": "application/julia",
   "name": "julia",
   "version": "0.5.2"
  }
 },
 "nbformat": 4,
 "nbformat_minor": 2
}
