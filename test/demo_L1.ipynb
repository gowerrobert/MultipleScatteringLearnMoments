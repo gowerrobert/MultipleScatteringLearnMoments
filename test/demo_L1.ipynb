{
 "cells": [
  {
   "cell_type": "markdown",
   "metadata": {},
   "source": [
    "A demo of training, predicting and testing a linear classifier using the centered moments of simulated response data. Here we use a L1 regularizor to select the most expressive moments.\n"
   ]
  },
  {
   "cell_type": "code",
   "execution_count": 1,
   "metadata": {},
   "outputs": [],
   "source": [
    "# include Machine learning definitions and functions\n",
    "using MultipleScattering\n",
    "using MultipleScatteringLearnMoments"
   ]
  },
  {
   "cell_type": "code",
   "execution_count": 2,
   "metadata": {},
   "outputs": [
    {
     "name": "stdout",
     "output_type": "stream",
     "text": [
      "loading:/home/rgower/.julia/v0.5/MultipleScatteringLearnMoments/test/../data/bunnytime.mnts.jld\n",
      "loading:/home/rgower/.julia/v0.5/MultipleScatteringLearnMoments/test/../data/bunnytimetest.mnts.jld\n"
     ]
    }
   ],
   "source": [
    "# Load training data\n",
    "dataname = \"bunnytime\";\n",
    "datatestname = \"bunnytimetest\";\n",
    "train = load_moments(string(dataname,\".mnts\")); #bunnytime8  # bunnytime-low.\n",
    "# Load testing data\n",
    "test = load_moments(string(datatestname,\".mnts\")); #bunnytimetest8   # bunnytime-extra  # bunnytimetest-extra # bunnytimetest-low"
   ]
  },
  {
   "cell_type": "code",
   "execution_count": 3,
   "metadata": {},
   "outputs": [
    {
     "name": "stdout",
     "output_type": "stream",
     "text": [
      "R squared error radius= 0.84\n"
     ]
    }
   ],
   "source": [
    "## Using Lasso as a feature selection for the moments\n",
    "## Learning the radius with Lasso and a feature map\n",
    "momnums = [1,2,3,4,5,6];\n",
    "optionsr = OptionsML(momnums,[],true) \n",
    "#Choose a feature map: fmmean, fmmoments,  fmofm\n",
    "fmr = fmmoments; \n",
    "lambda = 0.0; # 0.0 for default choice of cross-validation grid, \"GLMNet\" lets GLMNet choose the grid\n",
    "mlr = setup_ml(train, fmr, \"L1\",optionsr, \"radius\");\n",
    "# fitting the radius model\n",
    "fit_L1(mlr, optionsr, lambda);\n",
    "Rsqdr = test_linear(test, datatestname, fmr,  mlr,optionsr, \"radius\");"
   ]
  },
  {
   "cell_type": "code",
   "execution_count": 4,
   "metadata": {},
   "outputs": [
    {
     "ename": "LoadError",
     "evalue": "UndefVarError: heatmap not defined",
     "output_type": "error",
     "traceback": [
      "UndefVarError: heatmap not defined",
      "",
      " in include_string(::String, ::String) at ./loading.jl:441"
     ]
    }
   ],
   "source": [
    "## Plotting the weight attributed to eat moment. The plot shows that the 3rd moment is not important\n",
    "lengthresp = length(train[1].moments[1]);\n",
    "smon = size(train[1].moments[momnums]);\n",
    "mom_weights_square_r = reshape( abs.(mlr.parameters[1:end-1]), smon[1], lengthresp);\n",
    "heatmap(train[1].x_arr,1:smon[1], mom_weights_square_r', xlabel=\"time\", ylabel=\"moment\",fill=(true,cgrad(:blues,[0,0.1,1.0])))#\n",
    "savefig(\"../figures/weights-heatmap-$(mlr.name).pdf\");"
   ]
  },
  {
   "cell_type": "code",
   "execution_count": 5,
   "metadata": {},
   "outputs": [
    {
     "name": "stdout",
     "output_type": "stream",
     "text": [
      "(#data, #features): (205, 175)\n",
      "Fitting momentsmapL1-concen\n",
      "8.3% absolute train error\n",
      "concen 22.0% absolute test error\n",
      "R squared error concen= 0.93\n"
     ]
    }
   ],
   "source": [
    "## Using Lasso as a feature selection for the moments\n",
    "## Learning the concentration with Lasso and a feature map\n",
    "momnums = [1,2,3,4,5,6]; \n",
    "optionsv = OptionsML(momnums,[],true) \n",
    "#Choose a feature map: fmmean, fmmoments,  fmofm,\n",
    "fmv = fmmoments; \n",
    "lambda = 0.0; # 0.0 for default choice of cross-validation grid, \"GLMNet\" lets GLMNet choose the grid\n",
    "# retrieving lambdas that were calculated using  cross validation. See cross_valid.ipynb\n",
    "mlv = setup_ml(train, fmv, \"L1\",optionsv, \"concen\");\n",
    "# fitting the concentration model\n",
    "fit_L1(mlv, optionsv, lambda);\n",
    "Rsqdr = test_linear(test, datatestname, fmv,  mlv,optionsv, \"concen\");"
   ]
  },
  {
   "cell_type": "code",
   "execution_count": 6,
   "metadata": {},
   "outputs": [
    {
     "ename": "LoadError",
     "evalue": "UndefVarError: heatmap not defined",
     "output_type": "error",
     "traceback": [
      "UndefVarError: heatmap not defined",
      "",
      " in include_string(::String, ::String) at ./loading.jl:441"
     ]
    }
   ],
   "source": [
    "## Plotting the weight attributed to eat moment. The plot shows that the 3rd moment is not important\n",
    "lengthresp = length(train[1].moments[1]);\n",
    "smon = size(train[1].moments[momnums]);\n",
    "mom_weights_square_v = reshape( abs.(mlv.parameters[1:end-1]), smon[1], lengthresp);\n",
    "heatmap(train[1].x_arr,1:smon[1], mom_weights_square_v', xlabel=\"time\", ylabel=\"moment\",fill=(true,cgrad(:blues,[0,0.1,1.0])))#\n",
    "savefig(\"../figures/weights-heatmap-$(mlv.name).pdf\");"
   ]
  },
  {
   "cell_type": "code",
   "execution_count": 7,
   "metadata": {},
   "outputs": [
    {
     "name": "stdout",
     "output_type": "stream",
     "text": [
      "(vl, rd) =0.03,1.11\n",
      "(vpred, rpred) =0.023,1.062\n"
     ]
    }
   ],
   "source": [
    "## Predict a single particle using the kernal ridgeregression radius and volume models\n",
    "particlenum = 10;\n",
    "vl = test[particlenum].label[1]\n",
    "rd = test[particlenum].label[2]\n",
    "println(\"(vl, rd) =\",vl,',',rd);\n",
    "# Make a single prediction on test set\n",
    " vpred = predict_linear(test[particlenum], fmv,  mlv, optionsv)\n",
    " rpred = predict_linear(test[particlenum], fmr,  mlr, optionsr)\n",
    " println(\"(vpred, rpred) =\",floor(vpred[1]*1000)/1000,',',floor(rpred[1]*1000)/1000);"
   ]
  },
  {
   "cell_type": "code",
   "execution_count": 8,
   "metadata": {},
   "outputs": [
    {
     "name": "stdout",
     "output_type": "stream",
     "text": [
      "(#data, #features): (205, 175)\n",
      "Fitting momentsmapL1-volumefraction\n",
      "28.9% absolute train error\n",
      "volumnefraction 84.6% absolute test error\n",
      "R squared error volumnefraction= -0.02\n"
     ]
    }
   ],
   "source": [
    "## Using Lasso as a feature selection for the moments\n",
    "## Learning the volume fraction with Lasso and a feature map\n",
    "momnums = [1,2,3,4,5,6];\n",
    "optionsv = OptionsML(momnums,[],true) \n",
    "#Choose a feature map: fmmean, fmmoments,  fmofm,\n",
    "fmv = fmmoments; \n",
    "lambda = 0.0; # 0.0 for default choice of cross-validation grid, \"GLMNet\" lets GLMNet choose the grid\n",
    "# retrieving lambdas that were calculated using  cross validation. See cross_valid.ipynb\n",
    "mlv = setup_ml(train, fmv, \"L1\",optionsv, \"volumefraction\");\n",
    "# fitting the concentration model\n",
    "fit_L1(mlv, optionsv, lambda);\n",
    "Rsqdr = test_linear(test, datatestname, fmv,  mlv,optionsv, \"volumnefraction\");"
   ]
  },
  {
   "cell_type": "code",
   "execution_count": null,
   "metadata": {},
   "outputs": [],
   "source": []
  }
 ],
 "metadata": {
  "anaconda-cloud": {},
  "kernelspec": {
   "display_name": "Julia 0.5.2",
   "language": "julia",
   "name": "julia-0.5"
  },
  "language_info": {
   "file_extension": ".jl",
   "mimetype": "application/julia",
   "name": "julia",
   "version": "0.5.2"
  }
 },
 "nbformat": 4,
 "nbformat_minor": 1
}
