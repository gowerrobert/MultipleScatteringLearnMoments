{
 "cells": [
  {
   "cell_type": "markdown",
   "metadata": {},
   "source": [
    "A demo of training, predicting and testing a linear classifier using the centered moments of simulated response data. Here we use a L1 regularizor to select the most expressive moments.\n"
   ]
  },
  {
   "cell_type": "code",
   "execution_count": null,
   "metadata": {},
   "outputs": [],
   "source": [
    "# Dependencies\n",
    "using StatsBase\n",
    "using LaTeXStrings\n",
    "using JLD\n",
    "using GLMNet\n",
    "using Plots "
   ]
  },
  {
   "cell_type": "code",
   "execution_count": null,
   "metadata": {},
   "outputs": [],
   "source": [
    "# include Machine learning definitions and functions\n",
    "include(\"../src/MultiplyScattering_learn_moments.jl\");"
   ]
  },
  {
   "cell_type": "code",
   "execution_count": 23,
   "metadata": {},
   "outputs": [
    {
     "name": "stdout",
     "output_type": "stream",
     "text": [
      "loading:/home/rgower/Dropbox/Scattering-1.5D/numerics/mom_linear_regression/test/../../Data/bunnytime8.mnts.jld\n",
      "loading:/home/rgower/Dropbox/Scattering-1.5D/numerics/mom_linear_regression/test/../../Data/bunnytimetest8.mnts.jld\n"
     ]
    }
   ],
   "source": [
    "# Load training data\n",
    "dataname = \"bunnytime8\";\n",
    "datatestname = \"bunnytimetest8\";\n",
    "train = load_moments(string(dataname,\".mnts\")); #bunnytime8  # bunnytime-low.\n",
    "# Load testing data\n",
    "test = load_moments(string(datatestname,\".mnts\")); #bunnytimetest8   # bunnytime-extra  # bunnytimetest-extra # bunnytimetest-low"
   ]
  },
  {
   "cell_type": "code",
   "execution_count": 58,
   "metadata": {},
   "outputs": [
    {
     "name": "stdout",
     "output_type": "stream",
     "text": [
      "(#data, #features): (205, 59)\n",
      "Fitting momentsmapL1-radius\n",
      "23.6% absolute train error\n",
      "radius 17.6% absolute test error\n",
      "R squared error radius= 0.82\n"
     ]
    }
   ],
   "source": [
    "## Using Lasso as a feature selection for the moments\n",
    "## Learning the radius with Lasso and a feature map\n",
    "momnums = [1,2,3,4,5,6];\n",
    "optionsr = OptionsML(momnums,[],true) \n",
    "#Choose a feature map: fmmean, fmmoments,  fmofm\n",
    "fmr = fmmoments; \n",
    "lambda = 0.0; # 0.0 for default choice of cross-validation grid, \"GLMNet\" lets GLMNet choose the grid\n",
    "mlr = setup_ml(train, fmr, \"L1\",optionsr, \"radius\");\n",
    "# fitting the radius model\n",
    "fit_L1(mlr, optionsr, lambda);\n",
    "Rsqdr = test_linear(test, datatestname, fmr,  mlr,optionsr, \"radius\");"
   ]
  },
  {
   "cell_type": "code",
   "execution_count": 51,
   "metadata": {},
   "outputs": [
    {
     "name": "stderr",
     "output_type": "stream",
     "text": [
      "\u001b[1m\u001b[31mWARNING: No strict ticks found\u001b[0m\n"
     ]
    }
   ],
   "source": [
    "## Plotting the weight attributed to eat moment. The plot shows that the 3rd moment is not important\n",
    "lengthresp = length(train[1].moments[1]);\n",
    "smon = size(train[1].moments[momnums]);\n",
    "mom_weights_square_r = reshape( abs.(mlr.parameters[1:end-1]), smon[1], lengthresp);\n",
    "heatmap(train[1].x_arr,1:smon[1], mom_weights_square_r', xlabel=\"time\", ylabel=\"moment\",fill=(true,cgrad(:blues,[0,0.1,1.0])))#\n",
    "savefig(\"../figures/weights-heatmap-$(mlr.name).pdf\");"
   ]
  },
  {
   "cell_type": "code",
   "execution_count": 54,
   "metadata": {},
   "outputs": [
    {
     "name": "stdout",
     "output_type": "stream",
     "text": [
      "(#data, #features): (205, 175)\n",
      "Fitting momentsmapL1-concen\n",
      "8.3% absolute train error\n",
      "concen 22.0% absolute test error\n",
      "R squared error concen= 0.93\n"
     ]
    }
   ],
   "source": [
    "## Using Lasso as a feature selection for the moments\n",
    "## Learning the concentration with Lasso and a feature map\n",
    "momnums = [1,2,3,4,5,6]; \n",
    "optionsv = OptionsML(momnums,[],true) \n",
    "#Choose a feature map: fmmean, fmmoments,  fmofm,\n",
    "fmv = fmmoments; \n",
    "lambda = 0.0; # 0.0 for default choice of cross-validation grid, \"GLMNet\" lets GLMNet choose the grid\n",
    "# retrieving lambdas that were calculated using  cross validation. See cross_valid.ipynb\n",
    "mlv = setup_ml(train, fmv, \"L1\",optionsv, \"concen\");\n",
    "# fitting the concentration model\n",
    "fit_L1(mlv, optionsv, lambda);\n",
    "Rsqdr = test_linear(test, datatestname, fmv,  mlv,optionsv, \"concen\");"
   ]
  },
  {
   "cell_type": "code",
   "execution_count": 55,
   "metadata": {},
   "outputs": [
    {
     "name": "stderr",
     "output_type": "stream",
     "text": [
      "\u001b[1m\u001b[31mWARNING: No strict ticks found\u001b[0m\n"
     ]
    }
   ],
   "source": [
    "## Plotting the weight attributed to eat moment. The plot shows that the 3rd moment is not important\n",
    "lengthresp = length(train[1].moments[1]);\n",
    "smon = size(train[1].moments[momnums]);\n",
    "mom_weights_square_v = reshape( abs.(mlv.parameters[1:end-1]), smon[1], lengthresp);\n",
    "heatmap(train[1].x_arr,1:smon[1], mom_weights_square_v', xlabel=\"time\", ylabel=\"moment\",fill=(true,cgrad(:blues,[0,0.1,1.0])))#\n",
    "savefig(\"../figures/weights-heatmap-$(mlv.name).pdf\");"
   ]
  },
  {
   "cell_type": "code",
   "execution_count": 56,
   "metadata": {},
   "outputs": [
    {
     "name": "stdout",
     "output_type": "stream",
     "text": [
      "(vl, rd) =0.03,1.11\n",
      "(vpred, rpred) =0.023,1.062\n"
     ]
    }
   ],
   "source": [
    "## Predict a single particle using the kernal ridgeregression radius and volume models\n",
    "particlenum = 10;\n",
    "vl = test[particlenum].label[1]\n",
    "rd = test[particlenum].label[2]\n",
    "println(\"(vl, rd) =\",vl,',',rd);\n",
    "# Make a single prediction on test set\n",
    " vpred = predict_linear(test[particlenum], fmv,  mlv, optionsv)\n",
    " rpred = predict_linear(test[particlenum], fmr,  mlr, optionsr)\n",
    " println(\"(vpred, rpred) =\",floor(vpred[1]*1000)/1000,',',floor(rpred[1]*1000)/1000);"
   ]
  },
  {
   "cell_type": "code",
   "execution_count": 57,
   "metadata": {},
   "outputs": [
    {
     "name": "stdout",
     "output_type": "stream",
     "text": [
      "(#data, #features): (205, 175)\n",
      "Fitting momentsmapL1-volumefraction\n",
      "32.1% absolute train error\n",
      "volumnefraction 83.9% absolute test error\n",
      "R squared error volumnefraction= 0.01\n"
     ]
    }
   ],
   "source": [
    "## Using Lasso as a feature selection for the moments\n",
    "## Learning the volume fraction with Lasso and a feature map\n",
    "momnums = [1,2,3,4,5,6];\n",
    "optionsv = OptionsML(momnums,[],true) \n",
    "#Choose a feature map: fmmean, fmmoments,  fmofm,\n",
    "fmv = fmmoments; \n",
    "lambda = 0.0; # 0.0 for default choice of cross-validation grid, \"GLMNet\" lets GLMNet choose the grid\n",
    "# retrieving lambdas that were calculated using  cross validation. See cross_valid.ipynb\n",
    "mlv = setup_ml(train, fmv, \"L1\",optionsv, \"volumefraction\");\n",
    "# fitting the concentration model\n",
    "fit_L1(mlv, optionsv, lambda);\n",
    "Rsqdr = test_linear(test, datatestname, fmv,  mlv,optionsv, \"volumnefraction\");"
   ]
  },
  {
   "cell_type": "code",
   "execution_count": null,
   "metadata": {},
   "outputs": [],
   "source": []
  }
 ],
 "metadata": {
  "anaconda-cloud": {},
  "kernelspec": {
   "display_name": "Julia 0.5.2",
   "language": "julia",
   "name": "julia-0.5"
  },
  "language_info": {
   "file_extension": ".jl",
   "mimetype": "application/julia",
   "name": "julia",
   "version": "0.5.2"
  }
 },
 "nbformat": 4,
 "nbformat_minor": 1
}
