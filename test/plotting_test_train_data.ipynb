{
 "cells": [
  {
   "cell_type": "markdown",
   "metadata": {},
   "source": [
    "This script is for plotting the test and train data\n"
   ]
  },
  {
   "cell_type": "code",
   "execution_count": 1,
   "metadata": {},
   "outputs": [],
   "source": [
    "# include Machine learning definitions and functions\n",
    "using MultipleScattering\n",
    "using MultipleScatteringLearnMoments"
   ]
  },
  {
   "cell_type": "code",
   "execution_count": 4,
   "metadata": {},
   "outputs": [],
   "source": [
    "using JLD\n",
    "using LaTeXStrings\n",
    "using Plots"
   ]
  },
  {
   "cell_type": "code",
   "execution_count": 5,
   "metadata": {},
   "outputs": [
    {
     "name": "stdout",
     "output_type": "stream",
     "text": [
      "loading:/home/rgower/.julia/v0.5/MultipleScatteringLearnMoments/test/../data/bunnytime.mnts.jld\n",
      "loading:/home/rgower/.julia/v0.5/MultipleScatteringLearnMoments/test/../data/bunnytimetest.mnts.jld\n"
     ]
    }
   ],
   "source": [
    "# Load training data\n",
    "train = load_moments(\"bunnytime.mnts\");\n",
    "# Load testing data\n",
    "test = load_moments(\"bunnytimetest.mnts\");"
   ]
  },
  {
   "cell_type": "code",
   "execution_count": 6,
   "metadata": {
    "scrolled": true
   },
   "outputs": [],
   "source": [
    "# concentration X radius scatter plot of trainng and test set.\n",
    "gr()\n",
    "trainconfracs= collect([td.label[1]/(td.label[2]^2 ) for td in train]);#mom.label[1]/(mom.label[2]^2)\n",
    "trainradiuses = collect([td.label[2] for td in train]);\n",
    "testcontfracs= collect([td.label[1]/(td.label[2]^2 ) for td in test]);\n",
    "testradiuses = collect([td.label[2] for td in test]);\n",
    "scatter(trainconfracs,trainradiuses,  xlabel = \"concetration\",\n",
    "ylabel = \"radius\", label = \"training\")\n",
    "scatter!(testcontfracs,testradiuses,  xlabel = \"concetration\",\n",
    "ylabel = \"radius\", label = \"testing\")\n",
    "savefig(\"../figures/test_vs_train_scatter_concent.pdf\");"
   ]
  },
  {
   "cell_type": "code",
   "execution_count": 7,
   "metadata": {},
   "outputs": [],
   "source": [
    "# volume fraction X radius scatter plot of trainng and test set.\n",
    "gr()\n",
    "trainconfracs= collect([td.label[1] for td in train]);#mom.label[1]/(mom.label[2]^2)\n",
    "trainradiuses = collect([td.label[2] for td in train]);\n",
    "testcontfracs= collect([td.label[1] for td in test]);\n",
    "testradiuses = collect([td.label[2] for td in test]);\n",
    "scatter(trainconfracs,trainradiuses,  xlabel = \"volume fraction\",\n",
    "ylabel = \"radius\", label = \"training\")\n",
    "scatter!(testcontfracs,testradiuses,  xlabel = \"volume fraction\",\n",
    "ylabel = \"radius\", label = \"testing\")\n",
    "savefig(\"../figures/test_vs_train_scatter_concent.pdf\");"
   ]
  },
  {
   "cell_type": "code",
   "execution_count": null,
   "metadata": {},
   "outputs": [],
   "source": []
  }
 ],
 "metadata": {
  "anaconda-cloud": {},
  "kernelspec": {
   "display_name": "Julia 0.5.2",
   "language": "julia",
   "name": "julia-0.5"
  },
  "language_info": {
   "file_extension": ".jl",
   "mimetype": "application/julia",
   "name": "julia",
   "version": "0.5.2"
  }
 },
 "nbformat": 4,
 "nbformat_minor": 1
}
