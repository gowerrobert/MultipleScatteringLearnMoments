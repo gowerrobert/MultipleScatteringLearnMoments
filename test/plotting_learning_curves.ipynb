{
 "cells": [
  {
   "cell_type": "markdown",
   "metadata": {},
   "source": [
    "This notebook is for loading and plotting learning curves that have already been calculated. "
   ]
  },
  {
   "cell_type": "code",
   "execution_count": 1,
   "metadata": {},
   "outputs": [],
   "source": [
    "# include Machine learning definitions and functions\n",
    "using MultipleScattering\n",
    "using MultipleScatteringLearnMoments"
   ]
  },
  {
   "cell_type": "code",
   "execution_count": 11,
   "metadata": {},
   "outputs": [],
   "source": [
    "using JLD\n",
    "using LaTeXStrings\n",
    "using Plots"
   ]
  },
  {
   "cell_type": "code",
   "execution_count": 12,
   "metadata": {},
   "outputs": [
    {
     "name": "stdout",
     "output_type": "stream",
     "text": [
      "loading:/home/rgower/.julia/v0.5/MultipleScatteringLearnMoments/test/../data/bunnytime.mnts.jld\n"
     ]
    }
   ],
   "source": [
    "# Load training data\n",
    "train = load_moments(\"bunnytime.mnts\");"
   ]
  },
  {
   "cell_type": "code",
   "execution_count": 13,
   "metadata": {},
   "outputs": [],
   "source": [
    "# Parameters for cross-validation.\n",
    "print_and_plot_figures = false;\n",
    "momnums = [1,2];\n",
    "options= OptionsML(momnums,[],print_and_plot_figures) ;"
   ]
  },
  {
   "cell_type": "code",
   "execution_count": 14,
   "metadata": {},
   "outputs": [],
   "source": [
    "# feature map \n",
    "fm = fmmean; # fmmoments,  fmmean\n",
    "# kernel \n",
    "kernelname = \"OrnUhlen\"; #OrnUhlen, gauss"
   ]
  },
  {
   "cell_type": "code",
   "execution_count": 15,
   "metadata": {},
   "outputs": [
    {
     "name": "stdout",
     "output_type": "stream",
     "text": [
      "loading the learning curves in ../data/meanmapOrnUhlen-volfrac-learncurve-crossvalid.jld\n",
      "loading the learning curves in ../data/meanmapOrnUhlen-radius-learncurve-crossvalid.jld\n"
     ]
    }
   ],
   "source": [
    "# plotting the saved Learning curve as we increase number of grid points on volfrac vs radius grid\n",
    "mlv = setup_ml(train, fm,  kernelname,options, \"volfrac\");\n",
    "mlr = setup_ml(train, fm,  kernelname,options, \"radius\");\n",
    "savename =\"$(mlv.name)-learncurve-crossvalid\"\n",
    "savenamenew  = replace(savename,\"volfrac\",\"vol_and_rad\")\n",
    "default_path = \"../data/\"\n",
    "println(\"loading the learning curves in $(default_path)$(savename).jld\")\n",
    "Rsqds = load(\"$(default_path)$(savename).jld\");\n",
    "Rsqdsv = collect(Rsqds)[1][2];\n",
    "\n",
    "savename =\"$(mlr.name)-learncurve-crossvalid\"\n",
    "default_path = \"../data/\"\n",
    "println(\"loading the learning curves in $(default_path)$(savename).jld\")\n",
    "Rsqds = load(\"$(default_path)$(savename).jld\");\n",
    "Rsqdsr = collect(Rsqds)[1][2];\n",
    "\n",
    "numparts = length(Rsqdsr);\n",
    "\n",
    " plot((1:1:numparts)./numparts ,Rsqdsv, line = :line,    xlabel = \"fraction of train data\", #fill = (0, 0.5, :red),\n",
    "  ylabel = string(L\"$R^2$ coefficient\"),label = \"number fraction\",ylims = (-1 ,1), grid = false,legend = :right) \n",
    " plot!((1:1:numparts)./numparts ,Rsqdsr, line = :line,    xlabel = \"fraction of train data\", #fill = (0, 0.5, :red),\n",
    "  ylabel = string(L\"$R^2$ coefficient\"),label = \"radius\",  ylims = (-1 ,1), grid = false,legend = :right) ;\n",
    "  savefig(\"../figures/$(savenamenew).pdf\");"
   ]
  },
  {
   "cell_type": "code",
   "execution_count": null,
   "metadata": {},
   "outputs": [],
   "source": []
  }
 ],
 "metadata": {
  "anaconda-cloud": {},
  "kernelspec": {
   "display_name": "Julia 0.5.2",
   "language": "julia",
   "name": "julia-0.5"
  },
  "language_info": {
   "file_extension": ".jl",
   "mimetype": "application/julia",
   "name": "julia",
   "version": "0.5.2"
  }
 },
 "nbformat": 4,
 "nbformat_minor": 2
}
