{
 "cells": [
  {
   "cell_type": "markdown",
   "metadata": {},
   "source": [
    "This notebook is for loading and plotting learning curves that have already been calculated. "
   ]
  },
  {
   "cell_type": "code",
   "execution_count": 1,
   "metadata": {},
   "outputs": [
    {
     "name": "stderr",
     "output_type": "stream",
     "text": [
      "\n",
      "WARNING: deprecated syntax \"abstract Shape\" at /home/art/.julia/v0.6/MultipleScattering/src/MultipleScattering.jl:15.\n",
      "Use \"abstract type Shape end\" instead.\n"
     ]
    }
   ],
   "source": [
    "# include Machine learning definitions and functions\n",
    "using MultipleScattering\n",
    "using MultipleScatteringLearnMoments"
   ]
  },
  {
   "cell_type": "code",
   "execution_count": 2,
   "metadata": {
    "collapsed": true
   },
   "outputs": [],
   "source": [
    "using JLD\n",
    "using LaTeXStrings\n",
    "using Plots"
   ]
  },
  {
   "cell_type": "code",
   "execution_count": 3,
   "metadata": {},
   "outputs": [
    {
     "name": "stdout",
     "output_type": "stream",
     "text": [
      "loading:/home/art/.julia/v0.6/MultipleScatteringLearnMoments/test/../data/bunnytime.mnts.jld\n"
     ]
    }
   ],
   "source": [
    "# Load training data\n",
    "train = load_moments(\"bunnytime.mnts\");"
   ]
  },
  {
   "cell_type": "code",
   "execution_count": 4,
   "metadata": {
    "collapsed": true
   },
   "outputs": [],
   "source": [
    "# Parameters for cross-validation.\n",
    "print_and_plot_figures = false;\n",
    "momnums = [1,2];\n",
    "options= OptionsML(momnums,[],print_and_plot_figures) ;"
   ]
  },
  {
   "cell_type": "code",
   "execution_count": 5,
   "metadata": {
    "collapsed": true
   },
   "outputs": [],
   "source": [
    "# feature map \n",
    "fm = fmmean; # fmmoments,  fmmean\n",
    "# kernel \n",
    "kernelname = \"OrnUhlen\"; #OrnUhlen, gauss"
   ]
  },
  {
   "cell_type": "code",
   "execution_count": 6,
   "metadata": {},
   "outputs": [
    {
     "name": "stdout",
     "output_type": "stream",
     "text": [
      "loading the learning curves in ../data/meanmapOrnUhlen-volfrac-learncurve-crossvalid.jld\n"
     ]
    },
    {
     "ename": "LoadError",
     "evalue": "\u001b[91mFile ../data/meanmapOrnUhlen-volfrac-learncurve-crossvalid.jld cannot be found\u001b[39m",
     "output_type": "error",
     "traceback": [
      "\u001b[91mFile ../data/meanmapOrnUhlen-volfrac-learncurve-crossvalid.jld cannot be found\u001b[39m",
      "",
      "Stacktrace:",
      " [1] \u001b[1m#jldopen#9\u001b[22m\u001b[22m\u001b[1m(\u001b[22m\u001b[22m::Bool, ::Bool, ::Bool, ::Function, ::String, ::Bool, ::Bool, ::Bool, ::Bool, ::Bool\u001b[1m)\u001b[22m\u001b[22m at \u001b[1m/home/art/.julia/v0.6/JLD/src/JLD.jl:153\u001b[22m\u001b[22m",
      " [2] \u001b[1m(::JLD.#kw##jldopen)\u001b[22m\u001b[22m\u001b[1m(\u001b[22m\u001b[22m::Array{Any,1}, ::JLD.#jldopen, ::String, ::Bool, ::Bool, ::Bool, ::Bool, ::Bool\u001b[1m)\u001b[22m\u001b[22m at \u001b[1m./<missing>:0\u001b[22m\u001b[22m",
      " [3] \u001b[1m#jldopen#10\u001b[22m\u001b[22m\u001b[1m(\u001b[22m\u001b[22m::Bool, ::Bool, ::Bool, ::Function, ::String, ::String\u001b[1m)\u001b[22m\u001b[22m at \u001b[1m/home/art/.julia/v0.6/JLD/src/JLD.jl:231\u001b[22m\u001b[22m",
      " [4] \u001b[1mjldopen\u001b[22m\u001b[22m\u001b[1m(\u001b[22m\u001b[22m::String, ::String\u001b[1m)\u001b[22m\u001b[22m at \u001b[1m/home/art/.julia/v0.6/JLD/src/JLD.jl:231\u001b[22m\u001b[22m",
      " [5] \u001b[1m#jldopen#11\u001b[22m\u001b[22m\u001b[1m(\u001b[22m\u001b[22m::Array{Any,1}, ::Function, ::JLD.##37#39, ::String, ::Vararg{String,N} where N\u001b[1m)\u001b[22m\u001b[22m at \u001b[1m/home/art/.julia/v0.6/JLD/src/JLD.jl:241\u001b[22m\u001b[22m",
      " [6] \u001b[1mload\u001b[22m\u001b[22m\u001b[1m(\u001b[22m\u001b[22m::FileIO.File{FileIO.DataFormat{:JLD}}\u001b[1m)\u001b[22m\u001b[22m at \u001b[1m/home/art/.julia/v0.6/JLD/src/JLD.jl:1234\u001b[22m\u001b[22m",
      " [7] \u001b[1m#load#13\u001b[22m\u001b[22m\u001b[1m(\u001b[22m\u001b[22m::Array{Any,1}, ::Function, ::String\u001b[1m)\u001b[22m\u001b[22m at \u001b[1m/home/art/.julia/v0.6/FileIO/src/loadsave.jl:52\u001b[22m\u001b[22m",
      " [8] \u001b[1mload\u001b[22m\u001b[22m\u001b[1m(\u001b[22m\u001b[22m::String\u001b[1m)\u001b[22m\u001b[22m at \u001b[1m/home/art/.julia/v0.6/FileIO/src/loadsave.jl:52\u001b[22m\u001b[22m",
      " [9] \u001b[1minclude_string\u001b[22m\u001b[22m\u001b[1m(\u001b[22m\u001b[22m::String, ::String\u001b[1m)\u001b[22m\u001b[22m at \u001b[1m./loading.jl:515\u001b[22m\u001b[22m"
     ]
    }
   ],
   "source": [
    "# plotting the saved Learning curve as we increase number of grid points on volfrac vs radius grid\n",
    "mlv = setup_ml(train, fm,  kernelname,options, \"volfrac\");\n",
    "mlr = setup_ml(train, fm,  kernelname,options, \"radius\");\n",
    "savename =\"$(mlv.name)-learncurve-crossvalid\"\n",
    "savenamenew  = replace(savename,\"volfrac\",\"vol_and_rad\")\n",
    "default_path = \"../data/\"\n",
    "println(\"loading the learning curves in $(default_path)$(savename).jld\")\n",
    "Rsqds = load(\"$(default_path)$(savename).jld\");\n",
    "Rsqdsv = collect(Rsqds)[1][2];\n",
    "\n",
    "savename =\"$(mlr.name)-learncurve-crossvalid\"\n",
    "default_path = \"../data/\"\n",
    "println(\"loading the learning curves in $(default_path)$(savename).jld\")\n",
    "Rsqds = load(\"$(default_path)$(savename).jld\");\n",
    "Rsqdsr = collect(Rsqds)[1][2];\n",
    "\n",
    "numparts = length(Rsqdsr);\n",
    "\n",
    " plot((1:1:numparts)./numparts ,Rsqdsv, line = :line,    xlabel = \"fraction of train data\", #fill = (0, 0.5, :red),\n",
    "  ylabel = string(L\"$R^2$ coefficient\"),label = \"number fraction\",ylims = (-1 ,1), grid = false,legend = :right) \n",
    " plot!((1:1:numparts)./numparts ,Rsqdsr, line = :line,    xlabel = \"fraction of train data\", #fill = (0, 0.5, :red),\n",
    "  ylabel = string(L\"$R^2$ coefficient\"),label = \"radius\",  ylims = (-1 ,1), grid = false,legend = :right) ;\n",
    "  savefig(\"../figures/$(savenamenew).pdf\");"
   ]
  },
  {
   "cell_type": "code",
   "execution_count": null,
   "metadata": {
    "collapsed": true
   },
   "outputs": [],
   "source": []
  }
 ],
 "metadata": {
  "anaconda-cloud": {},
  "kernelspec": {
   "display_name": "Julia 0.5.1-pre",
   "language": "julia",
   "name": "julia-0.5"
  },
  "language_info": {
   "file_extension": ".jl",
   "mimetype": "application/julia",
   "name": "julia",
   "version": "0.6.0"
  }
 },
 "nbformat": 4,
 "nbformat_minor": 2
}
